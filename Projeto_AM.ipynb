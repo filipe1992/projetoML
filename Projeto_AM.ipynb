{
 "cells": [
  {
   "cell_type": "markdown",
   "id": "f5482810-30b5-460b-80df-058cbc51f74f",
   "metadata": {
    "tags": []
   },
   "source": [
    "# Estudo para a prova:\n",
    "## Sumario:\n",
    "### Pipeline ML\n",
    "#### 1- Definir o problema\n",
    "##### - Qual é a tarefa que queremos ensinar um computador a fazer?\n",
    "#### 2- Coletar os dados\n",
    "##### - Escolher uma base de dados do gagle basica para testes\n",
    "##### - Dividir os dados de teste em 3 grupos: Treino, Validação e Teste\n",
    "#### 3- Extração de Características (features)\n",
    "##### - Avaliar as caracteriticas importantes da base estudada\n",
    "##### - Não é uma tarefa fácil.\n",
    "#### 4- Treinamento do modelo\n",
    "##### - Usar o conjunto de testes para isso\n",
    "#### 5- Testar o desempenho do modelo treinado\n",
    "##### - Usar o conjunto de testes para isso\n",
    "##### - medir a sua capacidade de generalização ao classificar outras imagens de cães e gatos não apresentados na etapa de treinamento"
   ]
  },
  {
   "cell_type": "markdown",
   "id": "25122139",
   "metadata": {},
   "source": [
    "### Criando um Ambiente Virtual"
   ]
  },
  {
   "cell_type": "code",
   "execution_count": 1,
   "id": "9adcd2d3",
   "metadata": {},
   "outputs": [
    {
     "name": "stdout",
     "output_type": "stream",
     "text": [
      "/bin/bash: linha 1: projeto_mlScriptsactivate: comando não encontrado\n",
      "Installed kernelspec projeto_ml in /home/filipedc/.local/share/jupyter/kernels/projeto_ml\n"
     ]
    }
   ],
   "source": [
    "!python -m venv --system-site-packages ./projeto_ml\n",
    "!projeto_ml\\Scripts\\activate\n",
    "!ipython kernel install --user --name=projeto_ml\n"
   ]
  },
  {
   "cell_type": "markdown",
   "id": "a7997e65",
   "metadata": {},
   "source": [
    "# -> Aperete F5 e escolha o kernel \"projeto_ml\" <-"
   ]
  },
  {
   "cell_type": "code",
   "execution_count": 2,
   "id": "8c5af53a",
   "metadata": {},
   "outputs": [
    {
     "name": "stdout",
     "output_type": "stream",
     "text": [
      "Defaulting to user installation because normal site-packages is not writeable\n",
      "Requirement already satisfied: opencv-python in /home/filipedc/.local/lib/python3.10/site-packages (4.6.0.66)\n",
      "Requirement already satisfied: numpy>=1.17.3 in /home/filipedc/.local/lib/python3.10/site-packages (from opencv-python) (1.23.3)\n",
      "Defaulting to user installation because normal site-packages is not writeable\n",
      "Requirement already satisfied: tensorflow in /home/filipedc/.local/lib/python3.10/site-packages (2.10.0)\n",
      "Requirement already satisfied: tensorflow-estimator<2.11,>=2.10.0 in /home/filipedc/.local/lib/python3.10/site-packages (from tensorflow) (2.10.0)\n",
      "Requirement already satisfied: setuptools in /usr/lib/python3.10/site-packages (from tensorflow) (63.2.0)\n",
      "Requirement already satisfied: termcolor>=1.1.0 in /home/filipedc/.local/lib/python3.10/site-packages (from tensorflow) (2.0.1)\n",
      "Requirement already satisfied: protobuf<3.20,>=3.9.2 in /home/filipedc/.local/lib/python3.10/site-packages (from tensorflow) (3.19.5)\n",
      "Requirement already satisfied: flatbuffers>=2.0 in /home/filipedc/.local/lib/python3.10/site-packages (from tensorflow) (2.0.7)\n",
      "Requirement already satisfied: tensorboard<2.11,>=2.10 in /home/filipedc/.local/lib/python3.10/site-packages (from tensorflow) (2.10.0)\n",
      "Requirement already satisfied: wrapt>=1.11.0 in /home/filipedc/.local/lib/python3.10/site-packages (from tensorflow) (1.14.1)\n",
      "Requirement already satisfied: google-pasta>=0.1.1 in /home/filipedc/.local/lib/python3.10/site-packages (from tensorflow) (0.2.0)\n",
      "Requirement already satisfied: keras<2.11,>=2.10.0 in /home/filipedc/.local/lib/python3.10/site-packages (from tensorflow) (2.10.0)\n",
      "Requirement already satisfied: libclang>=13.0.0 in /home/filipedc/.local/lib/python3.10/site-packages (from tensorflow) (14.0.6)\n",
      "Requirement already satisfied: six>=1.12.0 in /usr/lib/python3.10/site-packages (from tensorflow) (1.16.0)\n",
      "Requirement already satisfied: packaging in /usr/lib/python3.10/site-packages (from tensorflow) (21.3)\n",
      "Requirement already satisfied: h5py>=2.9.0 in /home/filipedc/.local/lib/python3.10/site-packages (from tensorflow) (3.7.0)\n",
      "Requirement already satisfied: opt-einsum>=2.3.2 in /home/filipedc/.local/lib/python3.10/site-packages (from tensorflow) (3.3.0)\n",
      "Requirement already satisfied: astunparse>=1.6.0 in /home/filipedc/.local/lib/python3.10/site-packages (from tensorflow) (1.6.3)\n",
      "Requirement already satisfied: numpy>=1.20 in /home/filipedc/.local/lib/python3.10/site-packages (from tensorflow) (1.23.3)\n",
      "Requirement already satisfied: absl-py>=1.0.0 in /home/filipedc/.local/lib/python3.10/site-packages (from tensorflow) (1.2.0)\n",
      "Requirement already satisfied: typing-extensions>=3.6.6 in /usr/lib/python3.10/site-packages (from tensorflow) (4.3.0)\n",
      "Requirement already satisfied: gast<=0.4.0,>=0.2.1 in /home/filipedc/.local/lib/python3.10/site-packages (from tensorflow) (0.4.0)\n",
      "Requirement already satisfied: keras-preprocessing>=1.1.1 in /home/filipedc/.local/lib/python3.10/site-packages (from tensorflow) (1.1.2)\n",
      "Requirement already satisfied: grpcio<2.0,>=1.24.3 in /home/filipedc/.local/lib/python3.10/site-packages (from tensorflow) (1.49.1)\n",
      "Requirement already satisfied: tensorflow-io-gcs-filesystem>=0.23.1 in /home/filipedc/.local/lib/python3.10/site-packages (from tensorflow) (0.27.0)\n",
      "Requirement already satisfied: wheel<1.0,>=0.23.0 in /usr/lib/python3.10/site-packages (from astunparse>=1.6.0->tensorflow) (0.37.1)\n",
      "Requirement already satisfied: google-auth<3,>=1.6.3 in /home/filipedc/.local/lib/python3.10/site-packages (from tensorboard<2.11,>=2.10->tensorflow) (2.11.1)\n",
      "Requirement already satisfied: tensorboard-data-server<0.7.0,>=0.6.0 in /home/filipedc/.local/lib/python3.10/site-packages (from tensorboard<2.11,>=2.10->tensorflow) (0.6.1)\n",
      "Requirement already satisfied: werkzeug>=1.0.1 in /home/filipedc/.local/lib/python3.10/site-packages (from tensorboard<2.11,>=2.10->tensorflow) (2.2.2)\n",
      "Requirement already satisfied: tensorboard-plugin-wit>=1.6.0 in /home/filipedc/.local/lib/python3.10/site-packages (from tensorboard<2.11,>=2.10->tensorflow) (1.8.1)\n",
      "Requirement already satisfied: markdown>=2.6.8 in /home/filipedc/.local/lib/python3.10/site-packages (from tensorboard<2.11,>=2.10->tensorflow) (3.4.1)\n",
      "Requirement already satisfied: google-auth-oauthlib<0.5,>=0.4.1 in /home/filipedc/.local/lib/python3.10/site-packages (from tensorboard<2.11,>=2.10->tensorflow) (0.4.6)\n",
      "Requirement already satisfied: requests<3,>=2.21.0 in /usr/lib/python3.10/site-packages (from tensorboard<2.11,>=2.10->tensorflow) (2.28.1)\n",
      "Requirement already satisfied: pyparsing!=3.0.5,>=2.0.2 in /usr/lib/python3.10/site-packages (from packaging->tensorflow) (3.0.9)\n",
      "Requirement already satisfied: rsa<5,>=3.1.4 in /home/filipedc/.local/lib/python3.10/site-packages (from google-auth<3,>=1.6.3->tensorboard<2.11,>=2.10->tensorflow) (4.9)\n",
      "Requirement already satisfied: cachetools<6.0,>=2.0.0 in /home/filipedc/.local/lib/python3.10/site-packages (from google-auth<3,>=1.6.3->tensorboard<2.11,>=2.10->tensorflow) (5.2.0)\n",
      "Requirement already satisfied: pyasn1-modules>=0.2.1 in /home/filipedc/.local/lib/python3.10/site-packages (from google-auth<3,>=1.6.3->tensorboard<2.11,>=2.10->tensorflow) (0.2.8)\n",
      "Requirement already satisfied: requests-oauthlib>=0.7.0 in /home/filipedc/.local/lib/python3.10/site-packages (from google-auth-oauthlib<0.5,>=0.4.1->tensorboard<2.11,>=2.10->tensorflow) (1.3.1)\n",
      "Requirement already satisfied: idna<4,>=2.5 in /usr/lib/python3.10/site-packages (from requests<3,>=2.21.0->tensorboard<2.11,>=2.10->tensorflow) (3.4)\n",
      "Requirement already satisfied: urllib3<1.27,>=1.21.1 in /usr/lib/python3.10/site-packages (from requests<3,>=2.21.0->tensorboard<2.11,>=2.10->tensorflow) (1.26.12)\n",
      "Requirement already satisfied: MarkupSafe>=2.1.1 in /usr/lib/python3.10/site-packages (from werkzeug>=1.0.1->tensorboard<2.11,>=2.10->tensorflow) (2.1.1)\n",
      "Requirement already satisfied: pyasn1<0.5.0,>=0.4.6 in /home/filipedc/.local/lib/python3.10/site-packages (from pyasn1-modules>=0.2.1->google-auth<3,>=1.6.3->tensorboard<2.11,>=2.10->tensorflow) (0.4.8)\n",
      "Requirement already satisfied: oauthlib>=3.0.0 in /home/filipedc/.local/lib/python3.10/site-packages (from requests-oauthlib>=0.7.0->google-auth-oauthlib<0.5,>=0.4.1->tensorboard<2.11,>=2.10->tensorflow) (3.2.1)\n",
      "Defaulting to user installation because normal site-packages is not writeable\n",
      "Requirement already satisfied: tensorflow-datasets in /home/filipedc/.local/lib/python3.10/site-packages (4.7.0)\n",
      "Requirement already satisfied: termcolor in /home/filipedc/.local/lib/python3.10/site-packages (from tensorflow-datasets) (2.0.1)\n",
      "Requirement already satisfied: six in /usr/lib/python3.10/site-packages (from tensorflow-datasets) (1.16.0)\n",
      "Requirement already satisfied: tensorflow-metadata in /home/filipedc/.local/lib/python3.10/site-packages (from tensorflow-datasets) (1.10.0)\n",
      "Requirement already satisfied: tqdm in /home/filipedc/.local/lib/python3.10/site-packages (from tensorflow-datasets) (4.64.1)\n",
      "Requirement already satisfied: toml in /usr/lib/python3.10/site-packages (from tensorflow-datasets) (0.10.2)\n",
      "Requirement already satisfied: etils[epath] in /home/filipedc/.local/lib/python3.10/site-packages (from tensorflow-datasets) (0.9.0)\n",
      "Requirement already satisfied: absl-py in /home/filipedc/.local/lib/python3.10/site-packages (from tensorflow-datasets) (1.2.0)\n",
      "Requirement already satisfied: promise in /home/filipedc/.local/lib/python3.10/site-packages (from tensorflow-datasets) (2.3)\n",
      "Requirement already satisfied: requests>=2.19.0 in /usr/lib/python3.10/site-packages (from tensorflow-datasets) (2.28.1)\n",
      "Requirement already satisfied: numpy in /home/filipedc/.local/lib/python3.10/site-packages (from tensorflow-datasets) (1.23.3)\n",
      "Requirement already satisfied: dill in /usr/lib/python3.10/site-packages (from tensorflow-datasets) (0.3.4)\n",
      "Requirement already satisfied: protobuf>=3.12.2 in /home/filipedc/.local/lib/python3.10/site-packages (from tensorflow-datasets) (3.19.5)\n",
      "Requirement already satisfied: idna<4,>=2.5 in /usr/lib/python3.10/site-packages (from requests>=2.19.0->tensorflow-datasets) (3.4)\n",
      "Requirement already satisfied: urllib3<1.27,>=1.21.1 in /usr/lib/python3.10/site-packages (from requests>=2.19.0->tensorflow-datasets) (1.26.12)\n"
     ]
    },
    {
     "name": "stdout",
     "output_type": "stream",
     "text": [
      "Requirement already satisfied: typing_extensions in /usr/lib/python3.10/site-packages (from etils[epath]->tensorflow-datasets) (4.3.0)\n",
      "Requirement already satisfied: importlib_resources in /home/filipedc/.local/lib/python3.10/site-packages (from etils[epath]->tensorflow-datasets) (5.10.0)\n",
      "Requirement already satisfied: zipp in /usr/lib/python3.10/site-packages (from etils[epath]->tensorflow-datasets) (3.8.1)\n",
      "Requirement already satisfied: googleapis-common-protos<2,>=1.52.0 in /usr/lib/python3.10/site-packages (from tensorflow-metadata->tensorflow-datasets) (1.56.4)\n"
     ]
    }
   ],
   "source": [
    "!pip install opencv-python\n",
    "!pip install tensorflow \n",
    "#São cerca de 500 MB de dowload então pode demorar bastante.\n",
    "\n",
    "!pip install tensorflow-datasets\n"
   ]
  },
  {
   "cell_type": "markdown",
   "id": "0b820ec8-c855-4e4a-803f-c798d0406813",
   "metadata": {},
   "source": [
    "# Aplicando Imports"
   ]
  },
  {
   "cell_type": "code",
   "execution_count": 3,
   "id": "992d74bf-056f-446f-a168-66dfd01ca115",
   "metadata": {},
   "outputs": [
    {
     "name": "stderr",
     "output_type": "stream",
     "text": [
      "2022-10-30 16:01:32.705822: W tensorflow/stream_executor/platform/default/dso_loader.cc:64] Could not load dynamic library 'libcudart.so.11.0'; dlerror: libcudart.so.11.0: cannot open shared object file: No such file or directory\n",
      "2022-10-30 16:01:32.705858: I tensorflow/stream_executor/cuda/cudart_stub.cc:29] Ignore above cudart dlerror if you do not have a GPU set up on your machine.\n",
      "2022-10-30 16:01:32.808846: E tensorflow/stream_executor/cuda/cuda_blas.cc:2981] Unable to register cuBLAS factory: Attempting to register factory for plugin cuBLAS when one has already been registered\n",
      "2022-10-30 16:01:34.745823: W tensorflow/stream_executor/platform/default/dso_loader.cc:64] Could not load dynamic library 'libnvinfer.so.7'; dlerror: libnvinfer.so.7: cannot open shared object file: No such file or directory\n",
      "2022-10-30 16:01:34.746009: W tensorflow/stream_executor/platform/default/dso_loader.cc:64] Could not load dynamic library 'libnvinfer_plugin.so.7'; dlerror: libnvinfer_plugin.so.7: cannot open shared object file: No such file or directory\n",
      "2022-10-30 16:01:34.746027: W tensorflow/compiler/tf2tensorrt/utils/py_utils.cc:38] TF-TRT Warning: Cannot dlopen some TensorRT libraries. If you would like to use Nvidia GPU with TensorRT, please make sure the missing libraries mentioned above are installed properly.\n"
     ]
    }
   ],
   "source": [
    "# para tratar arquivos e diretorios\n",
    "import os\n",
    "import pathlib\n",
    "\n",
    "#para tratar numeros e arrays\n",
    "import numpy as np\n",
    "import pandas as pd\n",
    "\n",
    "#para o uso de machine Learning\n",
    "import tensorflow as tf\n",
    "import tensorflow_datasets as tfds\n",
    "\n",
    "\n",
    "#para tratar imagens\n",
    "import cv2\n",
    "\n",
    "#para plotar graficos\n",
    "import matplotlib.pyplot as plt\n",
    "import PIL"
   ]
  },
  {
   "cell_type": "markdown",
   "id": "dc86aafc-8476-428c-b949-58b77066c3ef",
   "metadata": {},
   "source": [
    "# 1 Entendimento do negocio\n",
    "\n",
    "## Defina o objetivo em termos de negócios\n",
    "- Ao buscar na internet soluções em graficos é necessario que haja uma forma automatizada de encontrar graficos e defini-los\n",
    "- Há também a possibilidade de gerar uma metrica de quantidade de graficos e suas relações, e por fim aplicar um verificador de graficos.\n",
    "\n",
    "## Como a solução será usada?\n",
    "- Como ferramenta de busca de graficos em determinado escopo ou como ferramenta de enssino.\n",
    "\n",
    "## Quais as soluções/alternativas atuais (caso existam)?\n",
    "- atualmente algumas ferramentas de busca já realizam a comparação entre imagens e muitas até usam isso, mas a proposta é apresentar uma ferramenta apropriada para esse tipo de reconhecimento: Definir o tipo de grafico.\n",
    "\n",
    "## Como você deve abordar este problema (supervisionado/não supervisionado, etc)?\n",
    "- Aprendizado supervisionado: busco encontrar predições a partir de imagens.\n",
    "- Usarei tecnicas de deepLearning.\n",
    "\n",
    "## Como o desempenho deve ser medido?\n",
    "- Matrizes de confusão e metricas como percentual de acerto, etc.\n",
    "\n",
    "## A medida de desempenho está alinhada com o objetivo do negócio?\n",
    "- Sim, o algoritmo precisa de acurácia \n",
    "\n",
    "## Qual seria o desempenho mínimo para alcançar o objetivo\n",
    "- acima de 90% de acerto seria um resultado.\n",
    "- porém, busca-se valores acima de 95% \n",
    "\n",
    "## Tem especialista humano disponível?\n",
    "- Eu mesmo posso definir e diferenciar determinados graficos.\n",
    "\n",
    "## É possível reutilizar experiências ou ferramentas de outros contextos?\n",
    "- o Google é uma caixa-preta, não posso usar o algoritmos deles aqui, porem já existem trabalhos neste sentido, mas ainda não consegui usá-los.\n",
    "\n",
    "## Como você resolveria o problema manualmente\n",
    "- Manualmente seria uma tarefa muito simples, ao visualizar um grafico eu definiria seu tipo, porem para fazer isso em muitas imagens isso poderia demanfdar muito tempo.\n",
    "\n",
    "## Produza um plano do projeto selecionando as tecnologias e ferramentas e definindo planos detalhados para cada fase do projeto\n",
    "\n",
    "### Planejamento\n",
    "- Este projeto tem como finalidade desenvolver uma ferramenta de deeplearn capaz de diferenciar alguns tipos de graficos e propiciar uma predição apartir de dada uma imagem, ter como resposta um grafico.\n",
    "\n",
    "#### Tecnologias\n",
    "- para isso usarei algumas ferramentas:\n",
    "    - Anaconda, para ser usada como ambiente de desenvoolvimento e facilitar o import de diversas libs.\n",
    "    - A \"IDE\" Jupyter Lab / Jupyter Notebook para o sesemvolvimento estruturado e para a apresentação de resultados.\n",
    "    - A linguagem de de sexemvolvimento Python 3.9\n",
    "    - Dados encontrados na plataforma kaggle.\n",
    "    \n",
    "#### Ferramentas\n",
    "- como ferrementas vou usar algumas libs:\n",
    "    - TensorFlow, para aplicar o deeplearn\n",
    "    - cv2, para tratamento de imagens\n",
    "    - \n",
    "    \n",
    "#### Detalhamento das fazes do projeto\n",
    "1. encontrar imagens para serem usadas como dados da ferramenta.\n",
    "2. tratar esses dados\n",
    "    - possivelmente as imgens virão todas juntas em uma unica pastas, separá-las sera um pequeno desafio.\n",
    "    - Definir quais imagems podem ser usadas e quais não podem.\n",
    "    - Realizar um tratamento nas imagens para encontrar resultados validos.\n",
    "3. Desenvolver o algoritmo para reconhecimento de imagens.\n",
    "4. testar o algoritmo usando dados separados para esse fim.\n",
    "5. Desenvolver uma ferramamenta mobile que realize o reconhecimento."
   ]
  },
  {
   "cell_type": "markdown",
   "id": "5bcf17a3-71dd-4d17-9a9c-48fe21857ade",
   "metadata": {},
   "source": [
    "# 2. Compreensão dos dados\n",
    "## Colete os dados de que você precisa e de quanto precisa.\n",
    "- Os dados foram encontrados no seguinte endereço: [Kaggle](https://www.kaggle.com/datasets/sunedition/graphs-dataset)\n",
    "- Para o meu projeto eu preferi baixar os dados.\n",
    "\n",
    "## Verifique quanto de espaço esses dados ocuparão e obtenha autorização de uso, se necessário, assegurando que as informações confidencias sejam excluídas ou protegidas (ex. deixando-as anônimas)\n",
    "- Os dados possuem o tamanho aproximado de 1.09GB, relativamente pequeno.\n",
    "- não são daodos sensiveis e não necessitam de alteração.\n",
    "- há apenas o pedido de citação dos dados.  [Kaggle](https://www.kaggle.com/datasets/sunedition/graphs-dataset)\n",
    "\n",
    "## Descreva os dados: examine os dados e documente suas propriedades, como formato de dados, número de registros ou identidades de campo\n",
    "- Os dados são separados em 8 classes:\n",
    "    - 0 - **just image**: Apenas uma imagem sem qualquer grafico\n",
    "    - 1 - **bar chart**: Grafico de barras\n",
    "    - 2 - **diagram**: diagrmas\n",
    "    - 3 - **flow chart**: graficos de fluxo\n",
    "    - 4 - **graph**: apenas um grafico\n",
    "    - 5 - **growth chart**: grafico de crescimento\n",
    "    - 6 - **pie chart**: grafico de pizza\n",
    "    - 7 - **table**: tabela\n",
    "\n",
    "### Trata-se e um conjunto de imagens:\n",
    "- A quantidade de imagens diversas:"
   ]
  },
  {
   "cell_type": "code",
   "execution_count": 4,
   "id": "138477b5-66eb-449f-bc41-675fcc599c79",
   "metadata": {
    "tags": []
   },
   "outputs": [
    {
     "name": "stdout",
     "output_type": "stream",
     "text": [
      "just_image__037138a2-9b47-11ea-a010-c71373fc244b.jpg\n",
      "just_image_FullMoon2010.jpg\n",
      "just_image_images701.jpg\n",
      "diagram_images367 (2).jpg\n",
      "table_images436.jpg\n",
      "flow_chart_5c58792d3f3d0450739932.png\n",
      "diagram_u0Uev.png\n",
      "diagram_images183.jpg\n",
      "growth_chart_images275.jpg\n",
      "graph_images300 (2).jpg\n"
     ]
    }
   ],
   "source": [
    "#diretorio_imagens = 'C:/Users/User/Documents/Projetos/Imagens/graphs/'\n",
    "diretorio_imagens = '/home/filipedc/Documentos/Programação/python/projetoML/projetoML/graphs/'\n",
    "diretorio = pathlib.Path(diretorio_imagens)\n",
    "for i in list(diretorio.glob(\"*.*\"))[:10]:\n",
    "    print(i.stem)"
   ]
  },
  {
   "cell_type": "markdown",
   "id": "631431d7",
   "metadata": {},
   "source": [
    "## Verifique a qualidade dos dados: quão “limpos/sujos” estão os dados?\n",
    "- Para facilitar o tratamento das imagens decidimos trocar os nomes das imagens para facilitar o trabalho. "
   ]
  },
  {
   "cell_type": "code",
   "execution_count": 5,
   "id": "cb5461b9",
   "metadata": {},
   "outputs": [
    {
     "name": "stdout",
     "output_type": "stream",
     "text": [
      "Novos nomes:\n",
      "\n",
      "growth_chart_173\n",
      "flow_chart_1497\n",
      "diagram_1716\n",
      "bar_chart_639\n",
      "table_1752\n",
      "graph_933\n",
      "graph_1403\n",
      "flow_chart_1569\n",
      "graph_988\n",
      "graph_1735\n"
     ]
    }
   ],
   "source": [
    "nome_classes = [\n",
    "    \"just_image\", \n",
    "    \"bar_chart\", \n",
    "    \"diagram\", \n",
    "    \"flow_chart\", \n",
    "    \"graph\", \n",
    "    \"growth_chart\", \n",
    "    \"pie_chart\",\n",
    "    \"table\"\n",
    "]\n",
    "\n",
    "for classe in nome_classes:\n",
    "    arquivos = diretorio.glob(\"*\"+classe+\"*.*\")\n",
    "    enderecos = list(arquivos)\n",
    "    arquivos.close()\n",
    "    for i,endereco in enumerate(enderecos):\n",
    "        file = pathlib.Path(endereco)\n",
    "        file.rename(str(file.with_stem(classe+\"_\"+str(i))))\n",
    "\n",
    "print(\"Novos nomes:\\n\")\n",
    "for i in list(diretorio.glob(\"*.*\"))[:10]:\n",
    "    print(i.stem)"
   ]
  },
  {
   "cell_type": "markdown",
   "id": "9c04c8d3",
   "metadata": {},
   "source": [
    "##### OBS: Para facilitar o uso do data set vamos criar um dataframe usando pandas."
   ]
  },
  {
   "cell_type": "code",
   "execution_count": 6,
   "id": "a7dd594d",
   "metadata": {},
   "outputs": [
    {
     "name": "stdout",
     "output_type": "stream",
     "text": [
      "classe: just_image\n",
      "classe: bar_chart\n",
      "classe: diagram\n",
      "classe: flow_chart\n",
      "classe: graph\n",
      "classe: growth_chart\n",
      "classe: pie_chart\n",
      "classe: table\n"
     ]
    }
   ],
   "source": [
    "\n",
    "nome_classes = [\n",
    "    \"just_image\", \n",
    "    \"bar_chart\", \n",
    "    \"diagram\", \n",
    "    \"flow_chart\", \n",
    "    \"graph\", \n",
    "    \"growth_chart\", \n",
    "    \"pie_chart\",\n",
    "    \"table\"\n",
    "]\n",
    "\n",
    "dataset = []\n",
    "\n",
    "for classe in nome_classes:\n",
    "    print(\"classe: \"+classe)\n",
    "    for i in diretorio.glob(\"*\"+classe+\"*\"):\n",
    "        imagem = PIL.Image.open(i)\n",
    "        dataset.append(\n",
    "            [\n",
    "                classe, #Nome da classse\n",
    "                i.suffix, #tipo do arquivo\n",
    "                i.absolute(), #Nome do arquivo\n",
    "                (i.stat().st_size//1000), #Tamanho em Kb\n",
    "                int(imagem.width), #largura da imagem\n",
    "                int(imagem.height) #altura da imagem\n",
    "            ]\n",
    "        )\n",
    "    \n",
    "\n",
    "dataset_array = np.array(dataset)\n",
    "\n",
    "ORIGINAL_DATA_SET = pd.DataFrame(\n",
    "    data=dataset_array,\n",
    "    columns=[\"classe\", \"tipo\", \"nome\", \"tamanho_Kb\", \"largura\", \"altura\"]\n",
    ")\n",
    "\n",
    "df_dataset = ORIGINAL_DATA_SET.copy()"
   ]
  },
  {
   "cell_type": "markdown",
   "id": "aa8a6b2c",
   "metadata": {},
   "source": [
    "#### Obs: um tratamento profundo foi necessario devido ao tipo \".gif\", o qual não pode ser lido.\n",
    "\n",
    "- Os dados que extraidos das imagens são:\n",
    "    - A **classe** : o tipo de grafico\n",
    "    - O **tipo**: o formato do arquivo\n",
    "    - O **nomne**: o nome do arquivo\n",
    "    - O **tamanho_Kb**: o tamanho do arquivo em kilobyte\n",
    "    - A **largura**: a largura da imagem\n",
    "    - A **altura**: a altura da imagem\n",
    "   \n",
    "## Explore os dados: Estude cada atributo e suas propriedades (nome, tipo, % de valores ausentes, quais atributos alvos, etc).\n",
    "\n",
    "- Estudaremos alguns dados dos atributos extraidos"
   ]
  },
  {
   "cell_type": "code",
   "execution_count": 7,
   "id": "1b5ab66f",
   "metadata": {},
   "outputs": [
    {
     "name": "stdout",
     "output_type": "stream",
     "text": [
      "Neste projeto serão usadas 15875 imagens\n"
     ]
    }
   ],
   "source": [
    "print(\"Neste projeto serão usadas %d imagens\" %len(df_dataset))"
   ]
  },
  {
   "cell_type": "markdown",
   "id": "7148430c",
   "metadata": {},
   "source": [
    "- Organizados da seguinte maneira:"
   ]
  },
  {
   "cell_type": "code",
   "execution_count": 8,
   "id": "6a90ec75",
   "metadata": {},
   "outputs": [
    {
     "data": {
      "text/html": [
       "<div>\n",
       "<style scoped>\n",
       "    .dataframe tbody tr th:only-of-type {\n",
       "        vertical-align: middle;\n",
       "    }\n",
       "\n",
       "    .dataframe tbody tr th {\n",
       "        vertical-align: top;\n",
       "    }\n",
       "\n",
       "    .dataframe thead th {\n",
       "        text-align: right;\n",
       "    }\n",
       "</style>\n",
       "<table border=\"1\" class=\"dataframe\">\n",
       "  <thead>\n",
       "    <tr style=\"text-align: right;\">\n",
       "      <th></th>\n",
       "      <th>classe</th>\n",
       "      <th>tipo</th>\n",
       "      <th>nome</th>\n",
       "      <th>tamanho_Kb</th>\n",
       "      <th>largura</th>\n",
       "      <th>altura</th>\n",
       "    </tr>\n",
       "  </thead>\n",
       "  <tbody>\n",
       "    <tr>\n",
       "      <th>15870</th>\n",
       "      <td>table</td>\n",
       "      <td>.jpg</td>\n",
       "      <td>/home/filipedc/Documentos/Programação/python/p...</td>\n",
       "      <td>37</td>\n",
       "      <td>275</td>\n",
       "      <td>183</td>\n",
       "    </tr>\n",
       "    <tr>\n",
       "      <th>15871</th>\n",
       "      <td>table</td>\n",
       "      <td>.jpg</td>\n",
       "      <td>/home/filipedc/Documentos/Programação/python/p...</td>\n",
       "      <td>30</td>\n",
       "      <td>275</td>\n",
       "      <td>183</td>\n",
       "    </tr>\n",
       "    <tr>\n",
       "      <th>15872</th>\n",
       "      <td>table</td>\n",
       "      <td>.jpg</td>\n",
       "      <td>/home/filipedc/Documentos/Programação/python/p...</td>\n",
       "      <td>20</td>\n",
       "      <td>189</td>\n",
       "      <td>267</td>\n",
       "    </tr>\n",
       "    <tr>\n",
       "      <th>15873</th>\n",
       "      <td>table</td>\n",
       "      <td>.jpg</td>\n",
       "      <td>/home/filipedc/Documentos/Programação/python/p...</td>\n",
       "      <td>39</td>\n",
       "      <td>550</td>\n",
       "      <td>203</td>\n",
       "    </tr>\n",
       "    <tr>\n",
       "      <th>15874</th>\n",
       "      <td>table</td>\n",
       "      <td>.jpg</td>\n",
       "      <td>/home/filipedc/Documentos/Programação/python/p...</td>\n",
       "      <td>18</td>\n",
       "      <td>300</td>\n",
       "      <td>168</td>\n",
       "    </tr>\n",
       "  </tbody>\n",
       "</table>\n",
       "</div>"
      ],
      "text/plain": [
       "      classe  tipo                                               nome  \\\n",
       "15870  table  .jpg  /home/filipedc/Documentos/Programação/python/p...   \n",
       "15871  table  .jpg  /home/filipedc/Documentos/Programação/python/p...   \n",
       "15872  table  .jpg  /home/filipedc/Documentos/Programação/python/p...   \n",
       "15873  table  .jpg  /home/filipedc/Documentos/Programação/python/p...   \n",
       "15874  table  .jpg  /home/filipedc/Documentos/Programação/python/p...   \n",
       "\n",
       "       tamanho_Kb  largura  altura  \n",
       "15870          37      275     183  \n",
       "15871          30      275     183  \n",
       "15872          20      189     267  \n",
       "15873          39      550     203  \n",
       "15874          18      300     168  "
      ]
     },
     "execution_count": 8,
     "metadata": {},
     "output_type": "execute_result"
    }
   ],
   "source": [
    "df_dataset = df_dataset.astype({\"classe\": \"str\", \"tipo\": \"str\", \"nome\": \"str\", \"tamanho_Kb\": \"int32\", \"largura\": \"int32\", \"altura\": \"int32\"})\n",
    "df_dataset[-5:]"
   ]
  },
  {
   "cell_type": "markdown",
   "id": "8f839760",
   "metadata": {},
   "source": [
    "- Definindo os tipos"
   ]
  },
  {
   "cell_type": "code",
   "execution_count": 9,
   "id": "376a805d",
   "metadata": {},
   "outputs": [
    {
     "data": {
      "text/plain": [
       "classe        object\n",
       "tipo          object\n",
       "nome          object\n",
       "tamanho_Kb     int32\n",
       "largura        int32\n",
       "altura         int32\n",
       "dtype: object"
      ]
     },
     "execution_count": 9,
     "metadata": {},
     "output_type": "execute_result"
    }
   ],
   "source": [
    "df_dataset.dtypes"
   ]
  },
  {
   "cell_type": "markdown",
   "id": "549b4607",
   "metadata": {},
   "source": [
    "## Documente quaisquer problema de qualidade:\n",
    "\n",
    "#### O formato não unico dos arquivos, entre elas webp, gifs e pngs..."
   ]
  },
  {
   "cell_type": "code",
   "execution_count": 10,
   "id": "6c1479b0",
   "metadata": {},
   "outputs": [
    {
     "data": {
      "text/plain": [
       "tipo\n",
       ".JPG        10\n",
       ".gif         3\n",
       ".jpeg        2\n",
       ".jpg     15763\n",
       ".png        96\n",
       ".webp        1\n",
       "Name: tipo, dtype: int64"
      ]
     },
     "execution_count": 10,
     "metadata": {},
     "output_type": "execute_result"
    }
   ],
   "source": [
    "df_dataset_tipo = df_dataset.groupby([\"tipo\"])['tipo']\\\n",
    "    .count()\n",
    "\n",
    "df_dataset_tipo"
   ]
  },
  {
   "cell_type": "code",
   "execution_count": 11,
   "id": "724f86bc",
   "metadata": {},
   "outputs": [
    {
     "data": {
      "image/png": "[encoded data removed]",
      "text/plain": [
       "<Figure size 1200x1200 with 2 Axes>"
      ]
     },
     "metadata": {},
     "output_type": "display_data"
    }
   ],
   "source": [
    "fig, axes = plt.subplots(nrows=1, ncols=2)\n",
    "\n",
    "df_dataset_tipo\\\n",
    "    .plot\\\n",
    "    .pie(\n",
    "        ax = axes[0],\n",
    "        figsize=(12, 12),\n",
    "        autopct='%1.1f%%',\n",
    "        explode=[0.1 for _ in range(len(df_dataset_tipo))]   \n",
    "    )\n",
    "axes[0].set_title(\"Total\")\n",
    "\n",
    "df_dataset_tipo\\\n",
    "    .drop('.jpg')\\\n",
    "    .plot\\\n",
    "    .pie(\n",
    "        ax = axes[1],\n",
    "        figsize=(12, 12),\n",
    "        autopct='%1.1f%%',\n",
    "        explode=[0.1 for _ in range(len(df_dataset_tipo)-1)]\n",
    "    )\n",
    "axes[1].set_title(\"Sem o tipo jpg (cerca de 0.7%)\")\n",
    "plt.show()"
   ]
  },
  {
   "cell_type": "markdown",
   "id": "0b600448",
   "metadata": {},
   "source": [
    "## Visualize os dados e estude a correlação entre os atributos\n",
    "- Quanto a classe:"
   ]
  },
  {
   "cell_type": "code",
   "execution_count": 12,
   "id": "d5459f83",
   "metadata": {},
   "outputs": [
    {
     "data": {
      "text/plain": [
       "classe\n",
       "bar_chart       1982\n",
       "diagram         2047\n",
       "flow_chart      1703\n",
       "graph           1976\n",
       "growth_chart    1098\n",
       "just_image      3174\n",
       "pie_chart       1831\n",
       "table           2064\n",
       "Name: classe, dtype: int64"
      ]
     },
     "execution_count": 12,
     "metadata": {},
     "output_type": "execute_result"
    }
   ],
   "source": [
    "df_dataset_classe = df_dataset.groupby([\"classe\"])['classe'].count()\n",
    "df_dataset_classe"
   ]
  },
  {
   "cell_type": "code",
   "execution_count": 13,
   "id": "de3c7f4b",
   "metadata": {},
   "outputs": [
    {
     "data": {
      "image/png": "[encoded data removed]",
      "text/plain": [
       "<Figure size 1200x1200 with 2 Axes>"
      ]
     },
     "metadata": {},
     "output_type": "display_data"
    }
   ],
   "source": [
    "fig, axes = plt.subplots(nrows=1, ncols=2)\n",
    "\n",
    "df_dataset_classe.plot.bar(ax=axes[0], figsize=(10, 10))#, autopct='%1.1f%%')\n",
    "df_dataset_classe.plot.pie(ax=axes[1], figsize=(12, 12), autopct='%1.1f%%')\n",
    "\n",
    "plt.show()"
   ]
  },
  {
   "cell_type": "markdown",
   "id": "b6961799",
   "metadata": {},
   "source": [
    "    - mosta uma certa similaridade entre as quantidades de cada tipo de classse"
   ]
  },
  {
   "cell_type": "code",
   "execution_count": 14,
   "id": "ac3b2039",
   "metadata": {},
   "outputs": [],
   "source": [
    "df_dataset_classe_largura_altura = df_dataset.groupby([\"classe\"])[[\"classe\",'largura','altura']]"
   ]
  },
  {
   "cell_type": "code",
   "execution_count": 15,
   "id": "453296b2",
   "metadata": {},
   "outputs": [
    {
     "data": {
      "text/html": [
       "<div>\n",
       "<style scoped>\n",
       "    .dataframe tbody tr th:only-of-type {\n",
       "        vertical-align: middle;\n",
       "    }\n",
       "\n",
       "    .dataframe tbody tr th {\n",
       "        vertical-align: top;\n",
       "    }\n",
       "\n",
       "    .dataframe thead th {\n",
       "        text-align: right;\n",
       "    }\n",
       "</style>\n",
       "<table border=\"1\" class=\"dataframe\">\n",
       "  <thead>\n",
       "    <tr style=\"text-align: right;\">\n",
       "      <th></th>\n",
       "      <th>largura</th>\n",
       "      <th>altura</th>\n",
       "    </tr>\n",
       "    <tr>\n",
       "      <th>classe</th>\n",
       "      <th></th>\n",
       "      <th></th>\n",
       "    </tr>\n",
       "  </thead>\n",
       "  <tbody>\n",
       "    <tr>\n",
       "      <th>bar_chart</th>\n",
       "      <td>100</td>\n",
       "      <td>100</td>\n",
       "    </tr>\n",
       "    <tr>\n",
       "      <th>diagram</th>\n",
       "      <td>100</td>\n",
       "      <td>100</td>\n",
       "    </tr>\n",
       "    <tr>\n",
       "      <th>flow_chart</th>\n",
       "      <td>29</td>\n",
       "      <td>87</td>\n",
       "    </tr>\n",
       "    <tr>\n",
       "      <th>graph</th>\n",
       "      <td>100</td>\n",
       "      <td>90</td>\n",
       "    </tr>\n",
       "    <tr>\n",
       "      <th>growth_chart</th>\n",
       "      <td>100</td>\n",
       "      <td>100</td>\n",
       "    </tr>\n",
       "    <tr>\n",
       "      <th>just_image</th>\n",
       "      <td>48</td>\n",
       "      <td>48</td>\n",
       "    </tr>\n",
       "    <tr>\n",
       "      <th>pie_chart</th>\n",
       "      <td>100</td>\n",
       "      <td>100</td>\n",
       "    </tr>\n",
       "    <tr>\n",
       "      <th>table</th>\n",
       "      <td>63</td>\n",
       "      <td>78</td>\n",
       "    </tr>\n",
       "  </tbody>\n",
       "</table>\n",
       "</div>"
      ],
      "text/plain": [
       "              largura  altura\n",
       "classe                       \n",
       "bar_chart         100     100\n",
       "diagram           100     100\n",
       "flow_chart         29      87\n",
       "graph             100      90\n",
       "growth_chart      100     100\n",
       "just_image         48      48\n",
       "pie_chart         100     100\n",
       "table              63      78"
      ]
     },
     "execution_count": 15,
     "metadata": {},
     "output_type": "execute_result"
    }
   ],
   "source": [
    "df_dataset_classe_largura_altura.min(numeric_only=True)"
   ]
  },
  {
   "cell_type": "code",
   "execution_count": 16,
   "id": "e54acb72",
   "metadata": {},
   "outputs": [
    {
     "data": {
      "text/html": [
       "<div>\n",
       "<style scoped>\n",
       "    .dataframe tbody tr th:only-of-type {\n",
       "        vertical-align: middle;\n",
       "    }\n",
       "\n",
       "    .dataframe tbody tr th {\n",
       "        vertical-align: top;\n",
       "    }\n",
       "\n",
       "    .dataframe thead th {\n",
       "        text-align: right;\n",
       "    }\n",
       "</style>\n",
       "<table border=\"1\" class=\"dataframe\">\n",
       "  <thead>\n",
       "    <tr style=\"text-align: right;\">\n",
       "      <th></th>\n",
       "      <th>largura</th>\n",
       "      <th>altura</th>\n",
       "    </tr>\n",
       "    <tr>\n",
       "      <th>classe</th>\n",
       "      <th></th>\n",
       "      <th></th>\n",
       "    </tr>\n",
       "  </thead>\n",
       "  <tbody>\n",
       "    <tr>\n",
       "      <th>bar_chart</th>\n",
       "      <td>286.0</td>\n",
       "      <td>194.0</td>\n",
       "    </tr>\n",
       "    <tr>\n",
       "      <th>diagram</th>\n",
       "      <td>278.0</td>\n",
       "      <td>197.0</td>\n",
       "    </tr>\n",
       "    <tr>\n",
       "      <th>flow_chart</th>\n",
       "      <td>259.0</td>\n",
       "      <td>227.0</td>\n",
       "    </tr>\n",
       "    <tr>\n",
       "      <th>graph</th>\n",
       "      <td>269.0</td>\n",
       "      <td>203.0</td>\n",
       "    </tr>\n",
       "    <tr>\n",
       "      <th>growth_chart</th>\n",
       "      <td>259.0</td>\n",
       "      <td>225.0</td>\n",
       "    </tr>\n",
       "    <tr>\n",
       "      <th>just_image</th>\n",
       "      <td>283.0</td>\n",
       "      <td>225.0</td>\n",
       "    </tr>\n",
       "    <tr>\n",
       "      <th>pie_chart</th>\n",
       "      <td>275.0</td>\n",
       "      <td>194.0</td>\n",
       "    </tr>\n",
       "    <tr>\n",
       "      <th>table</th>\n",
       "      <td>300.0</td>\n",
       "      <td>228.0</td>\n",
       "    </tr>\n",
       "  </tbody>\n",
       "</table>\n",
       "</div>"
      ],
      "text/plain": [
       "              largura  altura\n",
       "classe                       \n",
       "bar_chart       286.0   194.0\n",
       "diagram         278.0   197.0\n",
       "flow_chart      259.0   227.0\n",
       "graph           269.0   203.0\n",
       "growth_chart    259.0   225.0\n",
       "just_image      283.0   225.0\n",
       "pie_chart       275.0   194.0\n",
       "table           300.0   228.0"
      ]
     },
     "execution_count": 16,
     "metadata": {},
     "output_type": "execute_result"
    }
   ],
   "source": [
    "df_dataset_classe_largura_altura.median(numeric_only=True)"
   ]
  },
  {
   "cell_type": "code",
   "execution_count": 17,
   "id": "99263c94",
   "metadata": {},
   "outputs": [
    {
     "data": {
      "text/html": [
       "<div>\n",
       "<style scoped>\n",
       "    .dataframe tbody tr th:only-of-type {\n",
       "        vertical-align: middle;\n",
       "    }\n",
       "\n",
       "    .dataframe tbody tr th {\n",
       "        vertical-align: top;\n",
       "    }\n",
       "\n",
       "    .dataframe thead th {\n",
       "        text-align: right;\n",
       "    }\n",
       "</style>\n",
       "<table border=\"1\" class=\"dataframe\">\n",
       "  <thead>\n",
       "    <tr style=\"text-align: right;\">\n",
       "      <th></th>\n",
       "      <th>largura</th>\n",
       "      <th>altura</th>\n",
       "    </tr>\n",
       "    <tr>\n",
       "      <th>classe</th>\n",
       "      <th></th>\n",
       "      <th></th>\n",
       "    </tr>\n",
       "  </thead>\n",
       "  <tbody>\n",
       "    <tr>\n",
       "      <th>bar_chart</th>\n",
       "      <td>3638</td>\n",
       "      <td>3307</td>\n",
       "    </tr>\n",
       "    <tr>\n",
       "      <th>diagram</th>\n",
       "      <td>3750</td>\n",
       "      <td>3750</td>\n",
       "    </tr>\n",
       "    <tr>\n",
       "      <th>flow_chart</th>\n",
       "      <td>3495</td>\n",
       "      <td>4726</td>\n",
       "    </tr>\n",
       "    <tr>\n",
       "      <th>graph</th>\n",
       "      <td>5000</td>\n",
       "      <td>3750</td>\n",
       "    </tr>\n",
       "    <tr>\n",
       "      <th>growth_chart</th>\n",
       "      <td>5576</td>\n",
       "      <td>4000</td>\n",
       "    </tr>\n",
       "    <tr>\n",
       "      <th>just_image</th>\n",
       "      <td>6070</td>\n",
       "      <td>4912</td>\n",
       "    </tr>\n",
       "    <tr>\n",
       "      <th>pie_chart</th>\n",
       "      <td>5120</td>\n",
       "      <td>5120</td>\n",
       "    </tr>\n",
       "    <tr>\n",
       "      <th>table</th>\n",
       "      <td>7682</td>\n",
       "      <td>5775</td>\n",
       "    </tr>\n",
       "  </tbody>\n",
       "</table>\n",
       "</div>"
      ],
      "text/plain": [
       "              largura  altura\n",
       "classe                       \n",
       "bar_chart        3638    3307\n",
       "diagram          3750    3750\n",
       "flow_chart       3495    4726\n",
       "graph            5000    3750\n",
       "growth_chart     5576    4000\n",
       "just_image       6070    4912\n",
       "pie_chart        5120    5120\n",
       "table            7682    5775"
      ]
     },
     "execution_count": 17,
     "metadata": {},
     "output_type": "execute_result"
    }
   ],
   "source": [
    "df_dataset_classe_largura_altura.max(numeric_only=True)"
   ]
  },
  {
   "cell_type": "markdown",
   "id": "7ad4dd10-9843-4453-8eca-9f925c456c62",
   "metadata": {},
   "source": [
    "### 3. Preparação dos dados\n",
    "### - Uma regra comum é que 80% do projeto é a preparação de dados\n",
    "#### ❑ Selecionar dados: Determine quais os conjuntos de dados serão usados e documente os motivos da inclusão/exclusão\n",
    "    - Para esse projeto a quantidade de dados deva ser almentada em alguns pontos...\n",
    "    - Uma redução pontual do numero de classes chamadas de \"just_image\" não é necessária, mesmo possuindo uma quantidade desbalanceada quando comparada com o restante do dataset, esse valor não se mostra expressivo a ponto desta redução."
   ]
  },
  {
   "cell_type": "markdown",
   "id": "b7bf6835",
   "metadata": {},
   "source": [
    "#### ❑ Limpeza de dados\n",
    "##### ❑ Corrigir oou remover outiliers (opcional)\n",
    "    -Diante da analize dos dados não foram encontrados valores discrepantes entre si, haja vista a redução da escala de cada imagens para um tamanho expecifico o que redusiu a diferença na maioria das caracteriticas.\n"
   ]
  },
  {
   "cell_type": "code",
   "execution_count": null,
   "id": "fcb2285f",
   "metadata": {},
   "outputs": [],
   "source": [
    "plt.figure(figsize=(10, 10))\n",
    "for images, labels in train_ds.take(1):\n",
    "    for i in range(9):\n",
    "    ax = plt.subplot(3, 3, i + 1)\n",
    "    plt.imshow(images[i].numpy().astype(\"uint8\"))\n",
    "    plt.title(class_names[labels[i]])\n",
    "    plt.axis(\"off\")\n"
   ]
  },
  {
   "cell_type": "markdown",
   "id": "07526d7d",
   "metadata": {},
   "source": [
    "##### ❑ Preencher valores ausentes (missing values) ou eliminar suas instâncias (ou colunas)\n",
    "    - Não é necessario, devido ao fato de se tratar de uma base de dados de imagens.\n",
    "#### ❑ Seleção de características (opcional): eliminar (“dropa”) os atributos que não fornecem informações úteis para a tarefa\n",
    "    - não hã caracteriticas que devam ser eliminadas.\n",
    "#### ❑ Engenharia de Atributos ou de características (Feature Engineering): reformatar os dados conforme necessário. Por exemplo, discretizar características contínuas, realizar transformações (ex.: log(x), sqrt(x), etc.), compor novas características a partir das existentes, padronizar ou normalizar as características, etc\n",
    "    - Não ha essa necessidade."
   ]
  },
  {
   "cell_type": "markdown",
   "id": "33b52ecd",
   "metadata": {
    "tags": []
   },
   "source": [
    "### 4. Modelagem\n",
    "#### 1. Treine muitos modelos rápidos e simples de diferentes categorias (ex.: linear, Naive Bayes, SVM, random florest, rede neural, etc) usando parâmetros-padrão\n",
    "#### 2. Medir e comparar o desempenho (ex: média e desvio-padrão do erro). Para cada modelo é interessante usar a validação cruzada k-fold\n",
    "#### 3. Analise as variáveis mais significativas para cada algoritmo\n",
    "#### 4. Analise os erros que os modelos cometem\n",
    "#### 5. Execute uma rodada rápida de seleção de características e feature engineering\n",
    "#### 6. Rode mais uma ou duas iterações rápidas das 5 etapas anteriores\n",
    "#### 7. Faça uma pré-seleção de 3 à 5 modelos com melhor desempenho\n",
    "\n",
    "### 5. Avaliação\n",
    "#### ❑ Avalie os resultados: Os modelos atendem aos critérios de sucesso do negócio? Qual(is) devemos aprovar para o negócio?\n",
    "#### ❑ Processo de revisão: Revise o trabalho realizado. Alguma coisa foi esquecida? Todas as etapas foram executadas corretamente? Resuma as descobertas e corrija qualquer coisa, se necessário\n",
    "#### ❑ Apresente sua solução. Documentar o que foi feito, explicar porque sua solução alcança o objetivo do negócio, etc\n",
    "#### ❑ Determine as próximas etapas: Com base nas três tarefas anteriores, determine se deve continuar com a implantação, iterar mais ou iniciar novos projetos Importante: não ajuste seu modelo depois de medir o erro de generalização: você simplesmente começaria a ajustar o conjunto de teste\n",
    "\n",
    "### 6. Implantação\n",
    "#### ❑ Planejar a implantação: Desenvolva e documente um plano para implantar o modelo.\n",
    "#### ❑ Plano de monitoramento e manutenção: Desenvolva um plano completo de monitoramento e manutenção para evitar problemas durante a fase operacional (ou fase pós-projeto) de um modelo.\n",
    "#### ❑ Produzir relatório final: A equipe do projeto documenta um resumo do projeto que pode incluir uma apresentação final dos resultados da mineração de dados.\n",
    "#### ❑ Revisão do projeto: Conduza uma retrospectiva do projeto sobre o que deu certo, o que poderia ter sido melhor e como melhorar no futuro"
   ]
  },
  {
   "cell_type": "code",
   "execution_count": null,
   "id": "c9335930",
   "metadata": {},
   "outputs": [],
   "source": [
    "https://www.tensorflow.org/tutorials/load_data/images?hl=pt-br\n",
    "https://www.tensorflow.org/tutorials/load_data/pandas_dataframe?hl=pt-br"
   ]
  }
 ],
 "metadata": {
  "kernelspec": {
   "display_name": "projeto_ml",
   "language": "python",
   "name": "projeto_ml"
  },
  "language_info": {
   "codemirror_mode": {
    "name": "ipython",
    "version": 3
   },
   "file_extension": ".py",
   "mimetype": "text/x-python",
   "name": "python",
   "nbconvert_exporter": "python",
   "pygments_lexer": "ipython3",
   "version": "3.10.7"
  }
 },
 "nbformat": 4,
 "nbformat_minor": 5
}
