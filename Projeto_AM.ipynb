{
 "cells": [
  {
   "cell_type": "markdown",
   "id": "f5482810-30b5-460b-80df-058cbc51f74f",
   "metadata": {
    "tags": []
   },
   "source": [
    "# Estudo para a prova:\n",
    "## Sumario:\n",
    "### Pipeline ML\n",
    "#### 1- Definir o problema\n",
    "##### - Qual é a tarefa que queremos ensinar um computador a fazer?\n",
    "#### 2- Coletar os dados\n",
    "##### - Escolher uma base de dados do gagle basica para testes\n",
    "##### - Dividir os dados de teste em 3 grupos: Treino, Validação e Teste\n",
    "#### 3- Extração de Características (features)\n",
    "##### - Avaliar as caracteriticas importantes da base estudada\n",
    "##### - Não é uma tarefa fácil.\n",
    "#### 4- Treinamento do modelo\n",
    "##### - Usar o conjunto de testes para isso\n",
    "#### 5- Testar o desempenho do modelo treinado\n",
    "##### - Usar o conjunto de testes para isso\n",
    "##### - medir a sua capacidade de generalização ao classificar outras imagens de cães e gatos não apresentados na etapa de treinamento"
   ]
  },
  {
   "cell_type": "markdown",
   "id": "25122139",
   "metadata": {},
   "source": [
    "### Criando um Ambiente Virtual"
   ]
  },
  {
   "cell_type": "code",
   "execution_count": 1,
   "id": "9adcd2d3",
   "metadata": {},
   "outputs": [
    {
     "name": "stdout",
     "output_type": "stream",
     "text": [
      "Installed kernelspec projeto_ml in C:\\Users\\User\\AppData\\Roaming\\jupyter\\kernels\\projeto_ml\n"
     ]
    }
   ],
   "source": [
    "!python -m venv --system-site-packages ./projeto_ml\n",
    "!projetoML\\Scripts\\activate\n",
    "!ipython kernel install --user --name=projeto_ml\n"
   ]
  },
  {
   "cell_type": "markdown",
   "id": "a7997e65",
   "metadata": {},
   "source": [
    "# -> Aperete F5 e escolha o kernel \"projeto_ml\" <-"
   ]
  },
  {
   "cell_type": "code",
   "execution_count": 2,
   "id": "8c5af53a",
   "metadata": {},
   "outputs": [
    {
     "name": "stdout",
     "output_type": "stream",
     "text": [
      "Requirement already satisfied: opencv-python in c:\\users\\user\\anaconda3\\lib\\site-packages (4.6.0.66)\n",
      "Requirement already satisfied: numpy>=1.19.3 in c:\\users\\user\\anaconda3\\lib\\site-packages (from opencv-python) (1.21.5)\n",
      "Requirement already satisfied: tensorflow in c:\\users\\user\\anaconda3\\lib\\site-packages (2.10.0)\n",
      "Requirement already satisfied: tensorboard<2.11,>=2.10 in c:\\users\\user\\anaconda3\\lib\\site-packages (from tensorflow) (2.10.1)\n",
      "Requirement already satisfied: google-pasta>=0.1.1 in c:\\users\\user\\anaconda3\\lib\\site-packages (from tensorflow) (0.2.0)\n",
      "Requirement already satisfied: tensorflow-io-gcs-filesystem>=0.23.1 in c:\\users\\user\\anaconda3\\lib\\site-packages (from tensorflow) (0.27.0)\n",
      "Requirement already satisfied: keras<2.11,>=2.10.0 in c:\\users\\user\\anaconda3\\lib\\site-packages (from tensorflow) (2.10.0)\n",
      "Requirement already satisfied: gast<=0.4.0,>=0.2.1 in c:\\users\\user\\anaconda3\\lib\\site-packages (from tensorflow) (0.4.0)\n",
      "Requirement already satisfied: libclang>=13.0.0 in c:\\users\\user\\anaconda3\\lib\\site-packages (from tensorflow) (14.0.6)\n",
      "Requirement already satisfied: grpcio<2.0,>=1.24.3 in c:\\users\\user\\anaconda3\\lib\\site-packages (from tensorflow) (1.42.0)\n",
      "Requirement already satisfied: numpy>=1.20 in c:\\users\\user\\anaconda3\\lib\\site-packages (from tensorflow) (1.21.5)\n",
      "Requirement already satisfied: flatbuffers>=2.0 in c:\\users\\user\\anaconda3\\lib\\site-packages (from tensorflow) (22.10.26)\n",
      "Requirement already satisfied: absl-py>=1.0.0 in c:\\users\\user\\anaconda3\\lib\\site-packages (from tensorflow) (1.3.0)\n",
      "Requirement already satisfied: wrapt>=1.11.0 in c:\\users\\user\\anaconda3\\lib\\site-packages (from tensorflow) (1.12.1)\n",
      "Requirement already satisfied: astunparse>=1.6.0 in c:\\users\\user\\anaconda3\\lib\\site-packages (from tensorflow) (1.6.3)\n",
      "Requirement already satisfied: six>=1.12.0 in c:\\users\\user\\anaconda3\\lib\\site-packages (from tensorflow) (1.16.0)\n",
      "Requirement already satisfied: h5py>=2.9.0 in c:\\users\\user\\anaconda3\\lib\\site-packages (from tensorflow) (3.6.0)\n",
      "Requirement already satisfied: setuptools in c:\\users\\user\\anaconda3\\lib\\site-packages (from tensorflow) (61.2.0)\n",
      "Requirement already satisfied: termcolor>=1.1.0 in c:\\users\\user\\anaconda3\\lib\\site-packages (from tensorflow) (2.0.1)\n",
      "Requirement already satisfied: typing-extensions>=3.6.6 in c:\\users\\user\\anaconda3\\lib\\site-packages (from tensorflow) (4.1.1)\n",
      "Requirement already satisfied: keras-preprocessing>=1.1.1 in c:\\users\\user\\anaconda3\\lib\\site-packages (from tensorflow) (1.1.2)\n",
      "Requirement already satisfied: packaging in c:\\users\\user\\anaconda3\\lib\\site-packages (from tensorflow) (21.3)\n",
      "Requirement already satisfied: opt-einsum>=2.3.2 in c:\\users\\user\\anaconda3\\lib\\site-packages (from tensorflow) (3.3.0)\n",
      "Requirement already satisfied: protobuf<3.20,>=3.9.2 in c:\\users\\user\\anaconda3\\lib\\site-packages (from tensorflow) (3.19.1)\n",
      "Requirement already satisfied: tensorflow-estimator<2.11,>=2.10.0 in c:\\users\\user\\anaconda3\\lib\\site-packages (from tensorflow) (2.10.0)\n",
      "Requirement already satisfied: wheel<1.0,>=0.23.0 in c:\\users\\user\\anaconda3\\lib\\site-packages (from astunparse>=1.6.0->tensorflow) (0.37.1)\n",
      "Requirement already satisfied: werkzeug>=1.0.1 in c:\\users\\user\\anaconda3\\lib\\site-packages (from tensorboard<2.11,>=2.10->tensorflow) (2.0.3)\n",
      "Requirement already satisfied: requests<3,>=2.21.0 in c:\\users\\user\\anaconda3\\lib\\site-packages (from tensorboard<2.11,>=2.10->tensorflow) (2.27.1)\n",
      "Requirement already satisfied: tensorboard-data-server<0.7.0,>=0.6.0 in c:\\users\\user\\anaconda3\\lib\\site-packages (from tensorboard<2.11,>=2.10->tensorflow) (0.6.1)\n",
      "Requirement already satisfied: google-auth-oauthlib<0.5,>=0.4.1 in c:\\users\\user\\anaconda3\\lib\\site-packages (from tensorboard<2.11,>=2.10->tensorflow) (0.4.6)\n",
      "Requirement already satisfied: tensorboard-plugin-wit>=1.6.0 in c:\\users\\user\\anaconda3\\lib\\site-packages (from tensorboard<2.11,>=2.10->tensorflow) (1.8.1)\n",
      "Requirement already satisfied: markdown>=2.6.8 in c:\\users\\user\\anaconda3\\lib\\site-packages (from tensorboard<2.11,>=2.10->tensorflow) (3.3.4)\n",
      "Requirement already satisfied: google-auth<3,>=1.6.3 in c:\\users\\user\\anaconda3\\lib\\site-packages (from tensorboard<2.11,>=2.10->tensorflow) (1.33.0)\n",
      "Requirement already satisfied: pyasn1-modules>=0.2.1 in c:\\users\\user\\anaconda3\\lib\\site-packages (from google-auth<3,>=1.6.3->tensorboard<2.11,>=2.10->tensorflow) (0.2.8)\n",
      "Requirement already satisfied: rsa<5,>=3.1.4 in c:\\users\\user\\anaconda3\\lib\\site-packages (from google-auth<3,>=1.6.3->tensorboard<2.11,>=2.10->tensorflow) (4.7.2)\n",
      "Requirement already satisfied: cachetools<5.0,>=2.0.0 in c:\\users\\user\\anaconda3\\lib\\site-packages (from google-auth<3,>=1.6.3->tensorboard<2.11,>=2.10->tensorflow) (4.2.2)\n",
      "Requirement already satisfied: requests-oauthlib>=0.7.0 in c:\\users\\user\\anaconda3\\lib\\site-packages (from google-auth-oauthlib<0.5,>=0.4.1->tensorboard<2.11,>=2.10->tensorflow) (1.3.1)\n",
      "Requirement already satisfied: pyasn1<0.5.0,>=0.4.6 in c:\\users\\user\\anaconda3\\lib\\site-packages (from pyasn1-modules>=0.2.1->google-auth<3,>=1.6.3->tensorboard<2.11,>=2.10->tensorflow) (0.4.8)\n",
      "Requirement already satisfied: urllib3<1.27,>=1.21.1 in c:\\users\\user\\anaconda3\\lib\\site-packages (from requests<3,>=2.21.0->tensorboard<2.11,>=2.10->tensorflow) (1.26.9)\n",
      "Requirement already satisfied: charset-normalizer~=2.0.0 in c:\\users\\user\\anaconda3\\lib\\site-packages (from requests<3,>=2.21.0->tensorboard<2.11,>=2.10->tensorflow) (2.0.4)\n",
      "Requirement already satisfied: idna<4,>=2.5 in c:\\users\\user\\anaconda3\\lib\\site-packages (from requests<3,>=2.21.0->tensorboard<2.11,>=2.10->tensorflow) (3.3)\n",
      "Requirement already satisfied: certifi>=2017.4.17 in c:\\users\\user\\anaconda3\\lib\\site-packages (from requests<3,>=2.21.0->tensorboard<2.11,>=2.10->tensorflow) (2021.10.8)\n",
      "Requirement already satisfied: oauthlib>=3.0.0 in c:\\users\\user\\anaconda3\\lib\\site-packages (from requests-oauthlib>=0.7.0->google-auth-oauthlib<0.5,>=0.4.1->tensorboard<2.11,>=2.10->tensorflow) (3.2.2)\n",
      "Requirement already satisfied: pyparsing!=3.0.5,>=2.0.2 in c:\\users\\user\\anaconda3\\lib\\site-packages (from packaging->tensorflow) (3.0.4)\n",
      "Requirement already satisfied: tensorflow-datasets in c:\\users\\user\\anaconda3\\lib\\site-packages (4.7.0)\n",
      "Requirement already satisfied: promise in c:\\users\\user\\anaconda3\\lib\\site-packages (from tensorflow-datasets) (2.3)\n",
      "Requirement already satisfied: dill in c:\\users\\user\\anaconda3\\lib\\site-packages (from tensorflow-datasets) (0.3.6)\n",
      "Requirement already satisfied: absl-py in c:\\users\\user\\anaconda3\\lib\\site-packages (from tensorflow-datasets) (1.3.0)\n",
      "Requirement already satisfied: toml in c:\\users\\user\\anaconda3\\lib\\site-packages (from tensorflow-datasets) (0.10.2)\n",
      "Requirement already satisfied: tensorflow-metadata in c:\\users\\user\\anaconda3\\lib\\site-packages (from tensorflow-datasets) (1.10.0)\n",
      "Requirement already satisfied: etils[epath] in c:\\users\\user\\anaconda3\\lib\\site-packages (from tensorflow-datasets) (0.8.0)\n",
      "Requirement already satisfied: numpy in c:\\users\\user\\anaconda3\\lib\\site-packages (from tensorflow-datasets) (1.21.5)\n",
      "Requirement already satisfied: termcolor in c:\\users\\user\\anaconda3\\lib\\site-packages (from tensorflow-datasets) (2.0.1)\n",
      "Requirement already satisfied: tqdm in c:\\users\\user\\anaconda3\\lib\\site-packages (from tensorflow-datasets) (4.64.0)\n",
      "Requirement already satisfied: six in c:\\users\\user\\anaconda3\\lib\\site-packages (from tensorflow-datasets) (1.16.0)\n",
      "Requirement already satisfied: requests>=2.19.0 in c:\\users\\user\\anaconda3\\lib\\site-packages (from tensorflow-datasets) (2.27.1)\n",
      "Requirement already satisfied: protobuf>=3.12.2 in c:\\users\\user\\anaconda3\\lib\\site-packages (from tensorflow-datasets) (3.19.1)\n",
      "Requirement already satisfied: idna<4,>=2.5 in c:\\users\\user\\anaconda3\\lib\\site-packages (from requests>=2.19.0->tensorflow-datasets) (3.3)\n",
      "Requirement already satisfied: urllib3<1.27,>=1.21.1 in c:\\users\\user\\anaconda3\\lib\\site-packages (from requests>=2.19.0->tensorflow-datasets) (1.26.9)\n",
      "Requirement already satisfied: certifi>=2017.4.17 in c:\\users\\user\\anaconda3\\lib\\site-packages (from requests>=2.19.0->tensorflow-datasets) (2021.10.8)\n",
      "Requirement already satisfied: charset-normalizer~=2.0.0 in c:\\users\\user\\anaconda3\\lib\\site-packages (from requests>=2.19.0->tensorflow-datasets) (2.0.4)\n",
      "Requirement already satisfied: typing_extensions in c:\\users\\user\\anaconda3\\lib\\site-packages (from etils[epath]->tensorflow-datasets) (4.1.1)\n",
      "Requirement already satisfied: importlib_resources in c:\\users\\user\\anaconda3\\lib\\site-packages (from etils[epath]->tensorflow-datasets) (5.10.0)\n",
      "Requirement already satisfied: zipp in c:\\users\\user\\anaconda3\\lib\\site-packages (from etils[epath]->tensorflow-datasets) (3.7.0)\n",
      "Requirement already satisfied: googleapis-common-protos<2,>=1.52.0 in c:\\users\\user\\anaconda3\\lib\\site-packages (from tensorflow-metadata->tensorflow-datasets) (1.53.0)\n",
      "Requirement already satisfied: colorama in c:\\users\\user\\anaconda3\\lib\\site-packages (from tqdm->tensorflow-datasets) (0.4.4)\n"
     ]
    }
   ],
   "source": [
    "!pip install opencv-python\n",
    "!pip install tensorflow \n",
    "#São cerca de 500 MB de dowload então pode demorar bastante.\n",
    "\n",
    "!pip install tensorflow-datasets\n"
   ]
  },
  {
   "cell_type": "markdown",
   "id": "0b820ec8-c855-4e4a-803f-c798d0406813",
   "metadata": {},
   "source": [
    "# Aplicando Imports"
   ]
  },
  {
   "cell_type": "code",
   "execution_count": 3,
   "id": "992d74bf-056f-446f-a168-66dfd01ca115",
   "metadata": {},
   "outputs": [],
   "source": [
    "# para tratar arquivos e diretorios\n",
    "import os\n",
    "import pathlib\n",
    "\n",
    "#para tratar numeros e arrays\n",
    "import numpy as np\n",
    "import pandas as pd\n",
    "\n",
    "#para o uso de machine Learning\n",
    "import tensorflow as tf\n",
    "import tensorflow_datasets as tfds\n",
    "\n",
    "\n",
    "#para tratar imagens\n",
    "import cv2\n",
    "\n",
    "#para plotar graficos\n",
    "import matplotlib.pyplot as plt\n",
    "import PIL"
   ]
  },
  {
   "cell_type": "markdown",
   "id": "dc86aafc-8476-428c-b949-58b77066c3ef",
   "metadata": {},
   "source": [
    "# 1 Entendimento do negocio\n",
    "\n",
    "## Defina o objetivo em termos de negócios\n",
    "- Ao buscar na internet soluções em graficos é necessario que haja uma forma automatizada de encontrar graficos e defini-los\n",
    "- Há também a possibilidade de gerar uma metrica de quantidade de graficos e suas relações, e por fim aplicar um verificador de graficos.\n",
    "\n",
    "## Como a solução será usada?\n",
    "- Como ferramenta de busca de graficos em determinado escopo ou como ferramenta de enssino.\n",
    "\n",
    "## Quais as soluções/alternativas atuais (caso existam)?\n",
    "- atualmente algumas ferramentas de busca já realizam a comparação entre imagens e muitas até usam isso, mas a proposta é apresentar uma ferramenta apropriada para esse tipo de reconhecimento: Definir o tipo de grafico.\n",
    "\n",
    "## Como você deve abordar este problema (supervisionado/não supervisionado, etc)?\n",
    "- Aprendizado supervisionado: busco encontrar predições a partir de imagens.\n",
    "- Usarei tecnicas de deepLearning.\n",
    "\n",
    "## Como o desempenho deve ser medido?\n",
    "- Matrizes de confusão e metricas como percentual de acerto, etc.\n",
    "\n",
    "## A medida de desempenho está alinhada com o objetivo do negócio?\n",
    "- Sim, o algoritmo precisa de acurácia \n",
    "\n",
    "## Qual seria o desempenho mínimo para alcançar o objetivo\n",
    "- acima de 90% de acerto seria um resultado.\n",
    "- porém, busca-se valores acima de 95% \n",
    "\n",
    "## Tem especialista humano disponível?\n",
    "- Eu mesmo posso definir e diferenciar determinados graficos.\n",
    "\n",
    "## É possível reutilizar experiências ou ferramentas de outros contextos?\n",
    "- o Google é uma caixa-preta, não posso usar o algoritmos deles aqui, porem já existem trabalhos neste sentido, mas ainda não consegui usá-los.\n",
    "\n",
    "## Como você resolveria o problema manualmente\n",
    "- Manualmente seria uma tarefa muito simples, ao visualizar um grafico eu definiria seu tipo, porem para fazer isso em muitas imagens isso poderia demanfdar muito tempo.\n",
    "\n",
    "## Produza um plano do projeto selecionando as tecnologias e ferramentas e definindo planos detalhados para cada fase do projeto\n",
    "\n",
    "### Planejamento\n",
    "- Este projeto tem como finalidade desenvolver uma ferramenta de deeplearn capaz de diferenciar alguns tipos de graficos e propiciar uma predição apartir de dada uma imagem, ter como resposta um grafico.\n",
    "\n",
    "#### Tecnologias\n",
    "- para isso usarei algumas ferramentas:\n",
    "    - Anaconda, para ser usada como ambiente de desenvoolvimento e facilitar o import de diversas libs.\n",
    "    - A \"IDE\" Jupyter Lab / Jupyter Notebook para o sesemvolvimento estruturado e para a apresentação de resultados.\n",
    "    - A linguagem de de sexemvolvimento Python 3.9\n",
    "    - Dados encontrados na plataforma kaggle.\n",
    "    \n",
    "#### Ferramentas\n",
    "- como ferrementas vou usar algumas libs:\n",
    "    - TensorFlow, para aplicar o deeplearn\n",
    "    - cv2, para tratamento de imagens\n",
    "    - \n",
    "    \n",
    "#### Detalhamento das fazes do projeto\n",
    "1. encontrar imagens para serem usadas como dados da ferramenta.\n",
    "2. tratar esses dados\n",
    "    - possivelmente as imgens virão todas juntas em uma unica pastas, separá-las sera um pequeno desafio.\n",
    "    - Definir quais imagems podem ser usadas e quais não podem.\n",
    "    - Realizar um tratamento nas imagens para encontrar resultados validos.\n",
    "3. Desenvolver o algoritmo para reconhecimento de imagens.\n",
    "4. testar o algoritmo usando dados separados para esse fim.\n",
    "5. Desenvolver uma ferramamenta mobile que realize o reconhecimento."
   ]
  },
  {
   "cell_type": "markdown",
   "id": "5bcf17a3-71dd-4d17-9a9c-48fe21857ade",
   "metadata": {},
   "source": [
    "# 2. Compreensão dos dados\n",
    "## Colete os dados de que você precisa e de quanto precisa.\n",
    "- Os dados foram encontrados no seguinte endereço: [Kaggle](https://www.kaggle.com/datasets/sunedition/graphs-dataset)\n",
    "- Para o meu projeto eu preferi baixar os dados.\n",
    "\n",
    "## Verifique quanto de espaço esses dados ocuparão e obtenha autorização de uso, se necessário, assegurando que as informações confidencias sejam excluídas ou protegidas (ex. deixando-as anônimas)\n",
    "- Os dados possuem o tamanho aproximado de 1.09GB, relativamente pequeno.\n",
    "- não são daodos sensiveis e não necessitam de alteração.\n",
    "- há apenas o pedido de citação dos dados.  [Kaggle](https://www.kaggle.com/datasets/sunedition/graphs-dataset)\n",
    "\n",
    "## Descreva os dados: examine os dados e documente suas propriedades, como formato de dados, número de registros ou identidades de campo\n",
    "- Os dados são separados em 8 classes:\n",
    "    - 0 - **just image**: Apenas uma imagem sem qualquer grafico\n",
    "    - 1 - **bar chart**: Grafico de barras\n",
    "    - 2 - **diagram**: diagrmas\n",
    "    - 3 - **flow chart**: graficos de fluxo\n",
    "    - 4 - **graph**: apenas um grafico\n",
    "    - 5 - **growth chart**: grafico de crescimento\n",
    "    - 6 - **pie chart**: grafico de pizza\n",
    "    - 7 - **table**: tabela\n",
    "\n",
    "### Trata-se e um conjunto de imagens:\n",
    "- A quantidade de imagens diversas:"
   ]
  },
  {
   "cell_type": "code",
   "execution_count": 4,
   "id": "138477b5-66eb-449f-bc41-675fcc599c79",
   "metadata": {
    "tags": []
   },
   "outputs": [],
   "source": [
    "diretorio_imagens = 'C:/Users/User/Documents/Projetos/Imagens/graphs/'\n",
    "#diretorio_imagens = '/home/filipedc/Documentos/Programação/python/projetoML/projetoML/graphs/'\n",
    "diretorio = pathlib.Path(diretorio_imagens)\n"
   ]
  },
  {
   "cell_type": "code",
   "execution_count": 7,
   "id": "cb5461b9",
   "metadata": {},
   "outputs": [
    {
     "name": "stdout",
     "output_type": "stream",
     "text": [
      "[WindowsPath('C:/Users/User/Documents/Projetos/Imagens/graphs/bar_chart_0.jpg'), WindowsPath('C:/Users/User/Documents/Projetos/Imagens/graphs/bar_chart_1.jpg'), WindowsPath('C:/Users/User/Documents/Projetos/Imagens/graphs/bar_chart_10.jpg')]\n"
     ]
    }
   ],
   "source": [
    "nome_classes = [\n",
    "    \"just_image\", \n",
    "    \"bar_chart\", \n",
    "    \"diagram\", \n",
    "    \"flow_chart\", \n",
    "    \"graph\", \n",
    "    \"growth_chart\", \n",
    "    \"pie_chart\",\n",
    "    \"table\"\n",
    "]\n",
    "\n",
    "for classe in nome_classes:\n",
    "    arquivos = diretorio.glob(\"*\"+classe+\"*.*\")\n",
    "    enderecos = list(arquivos)\n",
    "    arquivos.close()\n",
    "    for i,endereco in enumerate(enderecos):\n",
    "        file = pathlib.Path(endereco)\n",
    "        file.rename(str(file.with_stem(classe+\"_\"+str(i))))\n",
    "    \n",
    "    \n",
    "print(list(pathlib.Path(diretorio_imagens).glob(\"*.*\"))[:3])"
   ]
  },
  {
   "cell_type": "markdown",
   "id": "9c04c8d3",
   "metadata": {},
   "source": [
    "##### OBS: Para facilitar o uso do data set vamos criar um dataframe usando pandas."
   ]
  },
  {
   "cell_type": "code",
   "execution_count": 12,
   "id": "a7dd594d",
   "metadata": {},
   "outputs": [
    {
     "name": "stdout",
     "output_type": "stream",
     "text": [
      "classe: just_image\n",
      "classe: bar_chart\n",
      "classe: diagram\n",
      "classe: flow_chart\n",
      "classe: graph\n",
      "classe: growth_chart\n",
      "classe: pie_chart\n",
      "classe: table\n"
     ]
    }
   ],
   "source": [
    "\n",
    "nome_classes = [\n",
    "    \"just_image\", \n",
    "    \"bar_chart\", \n",
    "    \"diagram\", \n",
    "    \"flow_chart\", \n",
    "    \"graph\", \n",
    "    \"growth_chart\", \n",
    "    \"pie_chart\",\n",
    "    \"table\"\n",
    "]\n",
    "\n",
    "dataset = []\n",
    "\n",
    "for classe in nome_classes:\n",
    "    print(\"classe: \"+classe)\n",
    "    for i in diretorio.glob(\"*\"+classe+\"*\"):\n",
    "        imagem = PIL.Image.open(i)\n",
    "        dataset.append(\n",
    "            [\n",
    "                classe, #Nome da classse\n",
    "                i.suffix, #tipo do arquivo\n",
    "                i.absolute(), #Nome do arquivo\n",
    "                (i.stat().st_size//1000), #Tamanho em Kb\n",
    "                int(imagem.width), #largura da imagem\n",
    "                int(imagem.height) #altura da imagem\n",
    "            ]\n",
    "        )\n",
    "    \n",
    "\n",
    "dataset_array = np.array(dataset)\n",
    "\n",
    "ORIGINAL_DATA_SET = pd.DataFrame(\n",
    "    data=dataset_array,\n",
    "    columns=[\"classe\", \"tipo\", \"nome\", \"tamanho_Kb\", \"largura\", \"altura\"]\n",
    ")\n",
    "\n",
    "df_dataset = ORIGINAL_DATA_SET.copy()"
   ]
  },
  {
   "cell_type": "markdown",
   "id": "aa8a6b2c",
   "metadata": {},
   "source": [
    "#### Obs: um tratamento profundo foi necessario devido ao tipo \".gif\", o qual não pode ser lido.\n",
    "\n",
    "- Os dados que extraidos das imagens são:\n",
    "    - A **classe** : o tipo de grafico\n",
    "    - O **tipo**: o formato do arquivo\n",
    "    - O **nomne**: o nome do arquivo\n",
    "    - O **tamanho_Mb**: o tamanho do arquivo em kilobyte\n",
    "    - A **largura**: a largura da imagem\n",
    "    - A **altura**: a altura da imagem\n",
    "   \n",
    "## Explore os dados: Estude cada atributo e suas propriedades (nome, tipo, % de valores ausentes, quais atributos alvos, etc).\n",
    "\n",
    "- Estudaremos alguns dados dos atributos extraidos"
   ]
  },
  {
   "cell_type": "code",
   "execution_count": 13,
   "id": "1b5ab66f",
   "metadata": {},
   "outputs": [
    {
     "name": "stdout",
     "output_type": "stream",
     "text": [
      "Neste projeto serão usadas 15875 imagens\n"
     ]
    }
   ],
   "source": [
    "print(\"Neste projeto serão usadas %d imagens\" %len(df_dataset))"
   ]
  },
  {
   "cell_type": "markdown",
   "id": "7148430c",
   "metadata": {},
   "source": [
    "- Organizados da seguinte maneira:"
   ]
  },
  {
   "cell_type": "code",
   "execution_count": 14,
   "id": "6a90ec75",
   "metadata": {},
   "outputs": [
    {
     "data": {
      "text/html": [
       "<div>\n",
       "<style scoped>\n",
       "    .dataframe tbody tr th:only-of-type {\n",
       "        vertical-align: middle;\n",
       "    }\n",
       "\n",
       "    .dataframe tbody tr th {\n",
       "        vertical-align: top;\n",
       "    }\n",
       "\n",
       "    .dataframe thead th {\n",
       "        text-align: right;\n",
       "    }\n",
       "</style>\n",
       "<table border=\"1\" class=\"dataframe\">\n",
       "  <thead>\n",
       "    <tr style=\"text-align: right;\">\n",
       "      <th></th>\n",
       "      <th>classe</th>\n",
       "      <th>tipo</th>\n",
       "      <th>nome</th>\n",
       "      <th>tamanho_Kb</th>\n",
       "      <th>largura</th>\n",
       "      <th>altura</th>\n",
       "    </tr>\n",
       "  </thead>\n",
       "  <tbody>\n",
       "    <tr>\n",
       "      <th>15870</th>\n",
       "      <td>table</td>\n",
       "      <td>.jpg</td>\n",
       "      <td>C:\\Users\\User\\Documents\\Projetos\\Imagens\\graph...</td>\n",
       "      <td>4.0</td>\n",
       "      <td>100</td>\n",
       "      <td>100</td>\n",
       "    </tr>\n",
       "    <tr>\n",
       "      <th>15871</th>\n",
       "      <td>table</td>\n",
       "      <td>.jpg</td>\n",
       "      <td>C:\\Users\\User\\Documents\\Projetos\\Imagens\\graph...</td>\n",
       "      <td>22.0</td>\n",
       "      <td>259</td>\n",
       "      <td>194</td>\n",
       "    </tr>\n",
       "    <tr>\n",
       "      <th>15872</th>\n",
       "      <td>table</td>\n",
       "      <td>.jpg</td>\n",
       "      <td>C:\\Users\\User\\Documents\\Projetos\\Imagens\\graph...</td>\n",
       "      <td>32.0</td>\n",
       "      <td>186</td>\n",
       "      <td>271</td>\n",
       "    </tr>\n",
       "    <tr>\n",
       "      <th>15873</th>\n",
       "      <td>table</td>\n",
       "      <td>.jpg</td>\n",
       "      <td>C:\\Users\\User\\Documents\\Projetos\\Imagens\\graph...</td>\n",
       "      <td>25.0</td>\n",
       "      <td>283</td>\n",
       "      <td>178</td>\n",
       "    </tr>\n",
       "    <tr>\n",
       "      <th>15874</th>\n",
       "      <td>table</td>\n",
       "      <td>.jpg</td>\n",
       "      <td>C:\\Users\\User\\Documents\\Projetos\\Imagens\\graph...</td>\n",
       "      <td>627.0</td>\n",
       "      <td>1920</td>\n",
       "      <td>1080</td>\n",
       "    </tr>\n",
       "  </tbody>\n",
       "</table>\n",
       "</div>"
      ],
      "text/plain": [
       "      classe  tipo                                               nome  \\\n",
       "15870  table  .jpg  C:\\Users\\User\\Documents\\Projetos\\Imagens\\graph...   \n",
       "15871  table  .jpg  C:\\Users\\User\\Documents\\Projetos\\Imagens\\graph...   \n",
       "15872  table  .jpg  C:\\Users\\User\\Documents\\Projetos\\Imagens\\graph...   \n",
       "15873  table  .jpg  C:\\Users\\User\\Documents\\Projetos\\Imagens\\graph...   \n",
       "15874  table  .jpg  C:\\Users\\User\\Documents\\Projetos\\Imagens\\graph...   \n",
       "\n",
       "       tamanho_Kb  largura  altura  \n",
       "15870         4.0      100     100  \n",
       "15871        22.0      259     194  \n",
       "15872        32.0      186     271  \n",
       "15873        25.0      283     178  \n",
       "15874       627.0     1920    1080  "
      ]
     },
     "execution_count": 14,
     "metadata": {},
     "output_type": "execute_result"
    }
   ],
   "source": [
    "df_dataset = df_dataset.astype({\"classe\": \"str\", \"tipo\": \"str\", \"nome\": \"str\", \"tamanho_Kb\": \"float\", \"largura\": \"int32\", \"altura\": \"int32\"})\n",
    "df_dataset[-5:]"
   ]
  },
  {
   "cell_type": "markdown",
   "id": "8f839760",
   "metadata": {},
   "source": [
    "- Definindo os tipos"
   ]
  },
  {
   "cell_type": "code",
   "execution_count": 15,
   "id": "376a805d",
   "metadata": {},
   "outputs": [
    {
     "data": {
      "text/plain": [
       "classe         object\n",
       "tipo           object\n",
       "nome           object\n",
       "tamanho_Kb    float64\n",
       "largura         int32\n",
       "altura          int32\n",
       "dtype: object"
      ]
     },
     "execution_count": 15,
     "metadata": {},
     "output_type": "execute_result"
    }
   ],
   "source": [
    "df_dataset.dtypes"
   ]
  },
  {
   "cell_type": "markdown",
   "id": "549b4607",
   "metadata": {},
   "source": [
    "#### Quanto ao formato do arquivo:"
   ]
  },
  {
   "cell_type": "code",
   "execution_count": 27,
   "id": "6c1479b0",
   "metadata": {},
   "outputs": [
    {
     "data": {
      "text/plain": [
       "tipo\n",
       ".JPG        10\n",
       ".gif         3\n",
       ".jpeg        2\n",
       ".jpg     15763\n",
       ".png        96\n",
       ".webp        1\n",
       "Name: tipo, dtype: int64"
      ]
     },
     "execution_count": 27,
     "metadata": {},
     "output_type": "execute_result"
    }
   ],
   "source": [
    "df_dataset_tipo = df_dataset.groupby([\"tipo\"])['tipo']\\\n",
    "    .count()\n",
    "\n",
    "df_dataset_tipo"
   ]
  },
  {
   "cell_type": "code",
   "execution_count": 30,
   "id": "724f86bc",
   "metadata": {},
   "outputs": [
    {
     "data": {
      "image/png": "[encoded data removed]",
      "text/plain": [
       "<Figure size 864x864 with 2 Axes>"
      ]
     },
     "metadata": {},
     "output_type": "display_data"
    }
   ],
   "source": [
    "fig, axes = plt.subplots(nrows=1, ncols=2)\n",
    "\n",
    "df_dataset_tipo\\\n",
    "    .plot\\\n",
    "    .pie(\n",
    "        ax = axes[0],\n",
    "        figsize=(12, 12),\n",
    "        autopct='%1.1f%%',\n",
    "        explode=[0.1 for _ in range(len(df_dataset_tipo))]   \n",
    "    )\n",
    "axes[0].set_title(\"Total\")\n",
    "\n",
    "df_dataset_tipo\\\n",
    "    .drop('.jpg')\\\n",
    "    .plot\\\n",
    "    .pie(\n",
    "        ax = axes[1],\n",
    "        figsize=(12, 12),\n",
    "        autopct='%1.1f%%',\n",
    "        explode=[0.1 for _ in range(len(df_dataset_tipo)-1)]\n",
    "    )\n",
    "axes[1].set_title(\"Sem o tipo jpg (cerca de 0.7%)\")\n",
    "plt.show()"
   ]
  },
  {
   "cell_type": "markdown",
   "id": "0b600448",
   "metadata": {},
   "source": [
    "## Visualize os dados e estude a correlação entre os atributos\n",
    "- Quanto a classe:"
   ]
  },
  {
   "cell_type": "code",
   "execution_count": 31,
   "id": "d5459f83",
   "metadata": {},
   "outputs": [
    {
     "data": {
      "text/plain": [
       "classe\n",
       "bar_chart       1982\n",
       "diagram         2047\n",
       "flow_chart      1703\n",
       "graph           1977\n",
       "growth_chart    1098\n",
       "just_image      3174\n",
       "pie_chart       1830\n",
       "table           2064\n",
       "Name: classe, dtype: int64"
      ]
     },
     "execution_count": 31,
     "metadata": {},
     "output_type": "execute_result"
    }
   ],
   "source": [
    "df_dataset_classe = df_dataset.groupby([\"classe\"])['classe'].count()\n",
    "df_dataset_classe"
   ]
  },
  {
   "cell_type": "code",
   "execution_count": 32,
   "id": "de3c7f4b",
   "metadata": {},
   "outputs": [
    {
     "data": {
      "image/png": "[encoded data removed]",
      "text/plain": [
       "<Figure size 864x864 with 2 Axes>"
      ]
     },
     "metadata": {
      "needs_background": "light"
     },
     "output_type": "display_data"
    }
   ],
   "source": [
    "fig, axes = plt.subplots(nrows=1, ncols=2)\n",
    "\n",
    "df_dataset_classe.plot.bar(ax=axes[0], figsize=(10, 10))#, autopct='%1.1f%%')\n",
    "df_dataset_classe.plot.pie(ax=axes[1], figsize=(12, 12), autopct='%1.1f%%')\n",
    "\n",
    "plt.show()"
   ]
  },
  {
   "cell_type": "markdown",
   "id": "b6961799",
   "metadata": {},
   "source": [
    "    - mosta uma certa similaridade entre as quantidades de cada tipo de classse"
   ]
  },
  {
   "cell_type": "code",
   "execution_count": 34,
   "id": "ac3b2039",
   "metadata": {},
   "outputs": [],
   "source": [
    "df_dataset_classe_largura_altura = df_dataset.groupby([\"classe\"])[[\"classe\",'largura','altura']]"
   ]
  },
  {
   "cell_type": "code",
   "execution_count": 35,
   "id": "453296b2",
   "metadata": {},
   "outputs": [
    {
     "data": {
      "text/html": [
       "<div>\n",
       "<style scoped>\n",
       "    .dataframe tbody tr th:only-of-type {\n",
       "        vertical-align: middle;\n",
       "    }\n",
       "\n",
       "    .dataframe tbody tr th {\n",
       "        vertical-align: top;\n",
       "    }\n",
       "\n",
       "    .dataframe thead th {\n",
       "        text-align: right;\n",
       "    }\n",
       "</style>\n",
       "<table border=\"1\" class=\"dataframe\">\n",
       "  <thead>\n",
       "    <tr style=\"text-align: right;\">\n",
       "      <th></th>\n",
       "      <th>largura</th>\n",
       "      <th>altura</th>\n",
       "    </tr>\n",
       "    <tr>\n",
       "      <th>classe</th>\n",
       "      <th></th>\n",
       "      <th></th>\n",
       "    </tr>\n",
       "  </thead>\n",
       "  <tbody>\n",
       "    <tr>\n",
       "      <th>bar_chart</th>\n",
       "      <td>100</td>\n",
       "      <td>100</td>\n",
       "    </tr>\n",
       "    <tr>\n",
       "      <th>diagram</th>\n",
       "      <td>100</td>\n",
       "      <td>100</td>\n",
       "    </tr>\n",
       "    <tr>\n",
       "      <th>flow_chart</th>\n",
       "      <td>29</td>\n",
       "      <td>87</td>\n",
       "    </tr>\n",
       "    <tr>\n",
       "      <th>graph</th>\n",
       "      <td>100</td>\n",
       "      <td>90</td>\n",
       "    </tr>\n",
       "    <tr>\n",
       "      <th>growth_chart</th>\n",
       "      <td>100</td>\n",
       "      <td>100</td>\n",
       "    </tr>\n",
       "    <tr>\n",
       "      <th>just_image</th>\n",
       "      <td>48</td>\n",
       "      <td>48</td>\n",
       "    </tr>\n",
       "    <tr>\n",
       "      <th>pie_chart</th>\n",
       "      <td>100</td>\n",
       "      <td>100</td>\n",
       "    </tr>\n",
       "    <tr>\n",
       "      <th>table</th>\n",
       "      <td>63</td>\n",
       "      <td>78</td>\n",
       "    </tr>\n",
       "  </tbody>\n",
       "</table>\n",
       "</div>"
      ],
      "text/plain": [
       "              largura  altura\n",
       "classe                       \n",
       "bar_chart         100     100\n",
       "diagram           100     100\n",
       "flow_chart         29      87\n",
       "graph             100      90\n",
       "growth_chart      100     100\n",
       "just_image         48      48\n",
       "pie_chart         100     100\n",
       "table              63      78"
      ]
     },
     "execution_count": 35,
     "metadata": {},
     "output_type": "execute_result"
    }
   ],
   "source": [
    "df_dataset_classe_largura_altura.min(numeric_only=True)"
   ]
  },
  {
   "cell_type": "code",
   "execution_count": 36,
   "id": "e54acb72",
   "metadata": {},
   "outputs": [
    {
     "data": {
      "text/html": [
       "<div>\n",
       "<style scoped>\n",
       "    .dataframe tbody tr th:only-of-type {\n",
       "        vertical-align: middle;\n",
       "    }\n",
       "\n",
       "    .dataframe tbody tr th {\n",
       "        vertical-align: top;\n",
       "    }\n",
       "\n",
       "    .dataframe thead th {\n",
       "        text-align: right;\n",
       "    }\n",
       "</style>\n",
       "<table border=\"1\" class=\"dataframe\">\n",
       "  <thead>\n",
       "    <tr style=\"text-align: right;\">\n",
       "      <th></th>\n",
       "      <th>largura</th>\n",
       "      <th>altura</th>\n",
       "    </tr>\n",
       "    <tr>\n",
       "      <th>classe</th>\n",
       "      <th></th>\n",
       "      <th></th>\n",
       "    </tr>\n",
       "  </thead>\n",
       "  <tbody>\n",
       "    <tr>\n",
       "      <th>bar_chart</th>\n",
       "      <td>286.0</td>\n",
       "      <td>194.0</td>\n",
       "    </tr>\n",
       "    <tr>\n",
       "      <th>diagram</th>\n",
       "      <td>278.0</td>\n",
       "      <td>197.0</td>\n",
       "    </tr>\n",
       "    <tr>\n",
       "      <th>flow_chart</th>\n",
       "      <td>259.0</td>\n",
       "      <td>227.0</td>\n",
       "    </tr>\n",
       "    <tr>\n",
       "      <th>graph</th>\n",
       "      <td>269.0</td>\n",
       "      <td>203.0</td>\n",
       "    </tr>\n",
       "    <tr>\n",
       "      <th>growth_chart</th>\n",
       "      <td>259.0</td>\n",
       "      <td>225.0</td>\n",
       "    </tr>\n",
       "    <tr>\n",
       "      <th>just_image</th>\n",
       "      <td>283.0</td>\n",
       "      <td>225.0</td>\n",
       "    </tr>\n",
       "    <tr>\n",
       "      <th>pie_chart</th>\n",
       "      <td>275.0</td>\n",
       "      <td>194.0</td>\n",
       "    </tr>\n",
       "    <tr>\n",
       "      <th>table</th>\n",
       "      <td>300.0</td>\n",
       "      <td>228.0</td>\n",
       "    </tr>\n",
       "  </tbody>\n",
       "</table>\n",
       "</div>"
      ],
      "text/plain": [
       "              largura  altura\n",
       "classe                       \n",
       "bar_chart       286.0   194.0\n",
       "diagram         278.0   197.0\n",
       "flow_chart      259.0   227.0\n",
       "graph           269.0   203.0\n",
       "growth_chart    259.0   225.0\n",
       "just_image      283.0   225.0\n",
       "pie_chart       275.0   194.0\n",
       "table           300.0   228.0"
      ]
     },
     "execution_count": 36,
     "metadata": {},
     "output_type": "execute_result"
    }
   ],
   "source": [
    "df_dataset_classe_largura_altura.median(numeric_only=True)"
   ]
  },
  {
   "cell_type": "code",
   "execution_count": 37,
   "id": "99263c94",
   "metadata": {},
   "outputs": [
    {
     "data": {
      "text/html": [
       "<div>\n",
       "<style scoped>\n",
       "    .dataframe tbody tr th:only-of-type {\n",
       "        vertical-align: middle;\n",
       "    }\n",
       "\n",
       "    .dataframe tbody tr th {\n",
       "        vertical-align: top;\n",
       "    }\n",
       "\n",
       "    .dataframe thead th {\n",
       "        text-align: right;\n",
       "    }\n",
       "</style>\n",
       "<table border=\"1\" class=\"dataframe\">\n",
       "  <thead>\n",
       "    <tr style=\"text-align: right;\">\n",
       "      <th></th>\n",
       "      <th>largura</th>\n",
       "      <th>altura</th>\n",
       "    </tr>\n",
       "    <tr>\n",
       "      <th>classe</th>\n",
       "      <th></th>\n",
       "      <th></th>\n",
       "    </tr>\n",
       "  </thead>\n",
       "  <tbody>\n",
       "    <tr>\n",
       "      <th>bar_chart</th>\n",
       "      <td>3638</td>\n",
       "      <td>3307</td>\n",
       "    </tr>\n",
       "    <tr>\n",
       "      <th>diagram</th>\n",
       "      <td>3750</td>\n",
       "      <td>3750</td>\n",
       "    </tr>\n",
       "    <tr>\n",
       "      <th>flow_chart</th>\n",
       "      <td>3495</td>\n",
       "      <td>4726</td>\n",
       "    </tr>\n",
       "    <tr>\n",
       "      <th>graph</th>\n",
       "      <td>5000</td>\n",
       "      <td>3750</td>\n",
       "    </tr>\n",
       "    <tr>\n",
       "      <th>growth_chart</th>\n",
       "      <td>5576</td>\n",
       "      <td>4000</td>\n",
       "    </tr>\n",
       "    <tr>\n",
       "      <th>just_image</th>\n",
       "      <td>6070</td>\n",
       "      <td>4912</td>\n",
       "    </tr>\n",
       "    <tr>\n",
       "      <th>pie_chart</th>\n",
       "      <td>5120</td>\n",
       "      <td>5120</td>\n",
       "    </tr>\n",
       "    <tr>\n",
       "      <th>table</th>\n",
       "      <td>7682</td>\n",
       "      <td>5775</td>\n",
       "    </tr>\n",
       "  </tbody>\n",
       "</table>\n",
       "</div>"
      ],
      "text/plain": [
       "              largura  altura\n",
       "classe                       \n",
       "bar_chart        3638    3307\n",
       "diagram          3750    3750\n",
       "flow_chart       3495    4726\n",
       "graph            5000    3750\n",
       "growth_chart     5576    4000\n",
       "just_image       6070    4912\n",
       "pie_chart        5120    5120\n",
       "table            7682    5775"
      ]
     },
     "execution_count": 37,
     "metadata": {},
     "output_type": "execute_result"
    }
   ],
   "source": [
    "df_dataset_classe_largura_altura.max(numeric_only=True)"
   ]
  },
  {
   "cell_type": "code",
   "execution_count": 38,
   "id": "d22ac460",
   "metadata": {},
   "outputs": [
    {
     "ename": "SyntaxError",
     "evalue": "invalid syntax (2690221633.py, line 1)",
     "output_type": "error",
     "traceback": [
      "\u001b[1;36m  Input \u001b[1;32mIn [38]\u001b[1;36m\u001b[0m\n\u001b[1;33m    ATE AQUI: https://www.tensorflow.org/tutorials/load_data/images?hl=pt-br\u001b[0m\n\u001b[1;37m        ^\u001b[0m\n\u001b[1;31mSyntaxError\u001b[0m\u001b[1;31m:\u001b[0m invalid syntax\n"
     ]
    }
   ],
   "source": [
    "ATE AQUI: https://www.tensorflow.org/tutorials/load_data/images?hl=pt-br\n",
    "https://www.tensorflow.org/tutorials/load_data/pandas_dataframe?hl=pt-br"
   ]
  },
  {
   "cell_type": "code",
   "execution_count": 16,
   "id": "761131fa",
   "metadata": {},
   "outputs": [
    {
     "ename": "TypeError",
     "evalue": "Int64Index.name must be a hashable type",
     "output_type": "error",
     "traceback": [
      "\u001b[1;31m---------------------------------------------------------------------------\u001b[0m",
      "\u001b[1;31mTypeError\u001b[0m                                 Traceback (most recent call last)",
      "File \u001b[1;32m~\\anaconda3\\lib\\site-packages\\pandas\\core\\groupby\\groupby.py:1414\u001b[0m, in \u001b[0;36mGroupBy.apply\u001b[1;34m(self, func, *args, **kwargs)\u001b[0m\n\u001b[0;32m   1413\u001b[0m \u001b[38;5;28;01mtry\u001b[39;00m:\n\u001b[1;32m-> 1414\u001b[0m     result \u001b[38;5;241m=\u001b[39m \u001b[38;5;28;43mself\u001b[39;49m\u001b[38;5;241;43m.\u001b[39;49m\u001b[43m_python_apply_general\u001b[49m\u001b[43m(\u001b[49m\u001b[43mf\u001b[49m\u001b[43m,\u001b[49m\u001b[43m \u001b[49m\u001b[38;5;28;43mself\u001b[39;49m\u001b[38;5;241;43m.\u001b[39;49m\u001b[43m_selected_obj\u001b[49m\u001b[43m)\u001b[49m\n\u001b[0;32m   1415\u001b[0m \u001b[38;5;28;01mexcept\u001b[39;00m \u001b[38;5;167;01mTypeError\u001b[39;00m:\n\u001b[0;32m   1416\u001b[0m     \u001b[38;5;66;03m# gh-20949\u001b[39;00m\n\u001b[0;32m   1417\u001b[0m     \u001b[38;5;66;03m# try again, with .apply acting as a filtering\u001b[39;00m\n\u001b[1;32m   (...)\u001b[0m\n\u001b[0;32m   1421\u001b[0m     \u001b[38;5;66;03m# fails on *some* columns, e.g. a numeric operation\u001b[39;00m\n\u001b[0;32m   1422\u001b[0m     \u001b[38;5;66;03m# on a string grouper column\u001b[39;00m\n",
      "File \u001b[1;32m~\\anaconda3\\lib\\site-packages\\pandas\\core\\groupby\\groupby.py:1455\u001b[0m, in \u001b[0;36mGroupBy._python_apply_general\u001b[1;34m(self, f, data, not_indexed_same)\u001b[0m\n\u001b[0;32m   1436\u001b[0m \u001b[38;5;124;03m\"\"\"\u001b[39;00m\n\u001b[0;32m   1437\u001b[0m \u001b[38;5;124;03mApply function f in python space\u001b[39;00m\n\u001b[0;32m   1438\u001b[0m \n\u001b[1;32m   (...)\u001b[0m\n\u001b[0;32m   1453\u001b[0m \u001b[38;5;124;03m    data after applying f\u001b[39;00m\n\u001b[0;32m   1454\u001b[0m \u001b[38;5;124;03m\"\"\"\u001b[39;00m\n\u001b[1;32m-> 1455\u001b[0m values, mutated \u001b[38;5;241m=\u001b[39m \u001b[38;5;28;43mself\u001b[39;49m\u001b[38;5;241;43m.\u001b[39;49m\u001b[43mgrouper\u001b[49m\u001b[38;5;241;43m.\u001b[39;49m\u001b[43mapply\u001b[49m\u001b[43m(\u001b[49m\u001b[43mf\u001b[49m\u001b[43m,\u001b[49m\u001b[43m \u001b[49m\u001b[43mdata\u001b[49m\u001b[43m,\u001b[49m\u001b[43m \u001b[49m\u001b[38;5;28;43mself\u001b[39;49m\u001b[38;5;241;43m.\u001b[39;49m\u001b[43maxis\u001b[49m\u001b[43m)\u001b[49m\n\u001b[0;32m   1457\u001b[0m \u001b[38;5;28;01mif\u001b[39;00m not_indexed_same \u001b[38;5;129;01mis\u001b[39;00m \u001b[38;5;28;01mNone\u001b[39;00m:\n",
      "File \u001b[1;32m~\\anaconda3\\lib\\site-packages\\pandas\\core\\groupby\\ops.py:761\u001b[0m, in \u001b[0;36mBaseGrouper.apply\u001b[1;34m(self, f, data, axis)\u001b[0m\n\u001b[0;32m    760\u001b[0m group_axes \u001b[38;5;241m=\u001b[39m group\u001b[38;5;241m.\u001b[39maxes\n\u001b[1;32m--> 761\u001b[0m res \u001b[38;5;241m=\u001b[39m \u001b[43mf\u001b[49m\u001b[43m(\u001b[49m\u001b[43mgroup\u001b[49m\u001b[43m)\u001b[49m\n\u001b[0;32m    762\u001b[0m \u001b[38;5;28;01mif\u001b[39;00m \u001b[38;5;129;01mnot\u001b[39;00m mutated \u001b[38;5;129;01mand\u001b[39;00m \u001b[38;5;129;01mnot\u001b[39;00m _is_indexed_like(res, group_axes, axis):\n",
      "File \u001b[1;32m~\\anaconda3\\lib\\site-packages\\pandas\\core\\groupby\\groupby.py:548\u001b[0m, in \u001b[0;36mGroupByPlot.__getattr__.<locals>.attr.<locals>.f\u001b[1;34m(self)\u001b[0m\n\u001b[0;32m    547\u001b[0m \u001b[38;5;28;01mdef\u001b[39;00m \u001b[38;5;21mf\u001b[39m(\u001b[38;5;28mself\u001b[39m):\n\u001b[1;32m--> 548\u001b[0m     \u001b[38;5;28;01mreturn\u001b[39;00m \u001b[38;5;28mgetattr\u001b[39m(\u001b[38;5;28mself\u001b[39m\u001b[38;5;241m.\u001b[39mplot, name)(\u001b[38;5;241m*\u001b[39margs, \u001b[38;5;241m*\u001b[39m\u001b[38;5;241m*\u001b[39mkwargs)\n",
      "File \u001b[1;32m~\\anaconda3\\lib\\site-packages\\pandas\\plotting\\_core.py:1584\u001b[0m, in \u001b[0;36mPlotAccessor.pie\u001b[1;34m(self, **kwargs)\u001b[0m\n\u001b[0;32m   1583\u001b[0m     \u001b[38;5;28;01mraise\u001b[39;00m \u001b[38;5;167;01mValueError\u001b[39;00m(\u001b[38;5;124m\"\u001b[39m\u001b[38;5;124mpie requires either y column or \u001b[39m\u001b[38;5;124m'\u001b[39m\u001b[38;5;124msubplots=True\u001b[39m\u001b[38;5;124m'\u001b[39m\u001b[38;5;124m\"\u001b[39m)\n\u001b[1;32m-> 1584\u001b[0m \u001b[38;5;28;01mreturn\u001b[39;00m \u001b[38;5;28mself\u001b[39m(kind\u001b[38;5;241m=\u001b[39m\u001b[38;5;124m\"\u001b[39m\u001b[38;5;124mpie\u001b[39m\u001b[38;5;124m\"\u001b[39m, \u001b[38;5;241m*\u001b[39m\u001b[38;5;241m*\u001b[39mkwargs)\n",
      "File \u001b[1;32m~\\anaconda3\\lib\\site-packages\\pandas\\plotting\\_core.py:931\u001b[0m, in \u001b[0;36mPlotAccessor.__call__\u001b[1;34m(self, *args, **kwargs)\u001b[0m\n\u001b[0;32m    930\u001b[0m             data \u001b[38;5;241m=\u001b[39m data[y]\u001b[38;5;241m.\u001b[39mcopy()\n\u001b[1;32m--> 931\u001b[0m             data\u001b[38;5;241m.\u001b[39mindex\u001b[38;5;241m.\u001b[39mname \u001b[38;5;241m=\u001b[39m y\n\u001b[0;32m    932\u001b[0m \u001b[38;5;28;01melif\u001b[39;00m \u001b[38;5;28misinstance\u001b[39m(data, ABCDataFrame):\n",
      "File \u001b[1;32m~\\anaconda3\\lib\\site-packages\\pandas\\core\\indexes\\base.py:1665\u001b[0m, in \u001b[0;36mIndex.name\u001b[1;34m(self, value)\u001b[0m\n\u001b[0;32m   1661\u001b[0m     \u001b[38;5;28;01mraise\u001b[39;00m \u001b[38;5;167;01mRuntimeError\u001b[39;00m(\n\u001b[0;32m   1662\u001b[0m         \u001b[38;5;124m\"\u001b[39m\u001b[38;5;124mCannot set name on a level of a MultiIndex. Use \u001b[39m\u001b[38;5;124m\"\u001b[39m\n\u001b[0;32m   1663\u001b[0m         \u001b[38;5;124m\"\u001b[39m\u001b[38;5;124m'\u001b[39m\u001b[38;5;124mMultiIndex.set_names\u001b[39m\u001b[38;5;124m'\u001b[39m\u001b[38;5;124m instead.\u001b[39m\u001b[38;5;124m\"\u001b[39m\n\u001b[0;32m   1664\u001b[0m     )\n\u001b[1;32m-> 1665\u001b[0m \u001b[43mmaybe_extract_name\u001b[49m\u001b[43m(\u001b[49m\u001b[43mvalue\u001b[49m\u001b[43m,\u001b[49m\u001b[43m \u001b[49m\u001b[38;5;28;43;01mNone\u001b[39;49;00m\u001b[43m,\u001b[49m\u001b[43m \u001b[49m\u001b[38;5;28;43mtype\u001b[39;49m\u001b[43m(\u001b[49m\u001b[38;5;28;43mself\u001b[39;49m\u001b[43m)\u001b[49m\u001b[43m)\u001b[49m\n\u001b[0;32m   1666\u001b[0m \u001b[38;5;28mself\u001b[39m\u001b[38;5;241m.\u001b[39m_name \u001b[38;5;241m=\u001b[39m value\n",
      "File \u001b[1;32m~\\anaconda3\\lib\\site-packages\\pandas\\core\\indexes\\base.py:7093\u001b[0m, in \u001b[0;36mmaybe_extract_name\u001b[1;34m(name, obj, cls)\u001b[0m\n\u001b[0;32m   7092\u001b[0m \u001b[38;5;28;01mif\u001b[39;00m \u001b[38;5;129;01mnot\u001b[39;00m is_hashable(name):\n\u001b[1;32m-> 7093\u001b[0m     \u001b[38;5;28;01mraise\u001b[39;00m \u001b[38;5;167;01mTypeError\u001b[39;00m(\u001b[38;5;124mf\u001b[39m\u001b[38;5;124m\"\u001b[39m\u001b[38;5;132;01m{\u001b[39;00m\u001b[38;5;28mcls\u001b[39m\u001b[38;5;241m.\u001b[39m\u001b[38;5;18m__name__\u001b[39m\u001b[38;5;132;01m}\u001b[39;00m\u001b[38;5;124m.name must be a hashable type\u001b[39m\u001b[38;5;124m\"\u001b[39m)\n\u001b[0;32m   7095\u001b[0m \u001b[38;5;28;01mreturn\u001b[39;00m name\n",
      "\u001b[1;31mTypeError\u001b[0m: Int64Index.name must be a hashable type",
      "\nDuring handling of the above exception, another exception occurred:\n",
      "\u001b[1;31mTypeError\u001b[0m                                 Traceback (most recent call last)",
      "Input \u001b[1;32mIn [16]\u001b[0m, in \u001b[0;36m<cell line: 2>\u001b[1;34m()\u001b[0m\n\u001b[0;32m      1\u001b[0m \u001b[38;5;66;03m#plotar tamanhos\u001b[39;00m\n\u001b[1;32m----> 2\u001b[0m \u001b[43mdf_dataset_classe_largura_altura\u001b[49m\u001b[38;5;241;43m.\u001b[39;49m\u001b[43mplot\u001b[49m\u001b[38;5;241;43m.\u001b[39;49m\u001b[43mpie\u001b[49m\u001b[43m(\u001b[49m\u001b[43mx\u001b[49m\u001b[38;5;241;43m=\u001b[39;49m\u001b[38;5;124;43m\"\u001b[39;49m\u001b[38;5;124;43mclasse\u001b[39;49m\u001b[38;5;124;43m\"\u001b[39;49m\u001b[43m,\u001b[49m\u001b[43m \u001b[49m\u001b[43my\u001b[49m\u001b[38;5;241;43m=\u001b[39;49m\u001b[43m[\u001b[49m\u001b[38;5;124;43m\"\u001b[39;49m\u001b[38;5;124;43mlargura\u001b[39;49m\u001b[38;5;124;43m\"\u001b[39;49m\u001b[43m,\u001b[49m\u001b[38;5;124;43m\"\u001b[39;49m\u001b[38;5;124;43maltura\u001b[39;49m\u001b[38;5;124;43m\"\u001b[39;49m\u001b[43m]\u001b[49m\u001b[43m)\u001b[49m\n\u001b[0;32m      4\u001b[0m \u001b[38;5;66;03m# y = np.random.rand(10,3)\u001b[39;00m\n\u001b[0;32m      5\u001b[0m \u001b[38;5;66;03m# y[:,0]= np.arange(10)\u001b[39;00m\n\u001b[0;32m      6\u001b[0m \u001b[38;5;66;03m# df = df_dataset_classe_largura_altura\u001b[39;00m\n\u001b[0;32m      7\u001b[0m \n\u001b[0;32m      8\u001b[0m \u001b[38;5;66;03m# ax = df.plot(x=\"classe\", y=\"largura\", kind=\"bar\")\u001b[39;00m\n\u001b[0;32m      9\u001b[0m \u001b[38;5;66;03m# df.plot(x=\"classe\", y=\"altura\", kind=\"bar\", ax=ax, color=\"C2\")\u001b[39;00m\n\u001b[0;32m     11\u001b[0m plt\u001b[38;5;241m.\u001b[39mshow()\n",
      "File \u001b[1;32m~\\anaconda3\\lib\\site-packages\\pandas\\core\\groupby\\groupby.py:550\u001b[0m, in \u001b[0;36mGroupByPlot.__getattr__.<locals>.attr\u001b[1;34m(*args, **kwargs)\u001b[0m\n\u001b[0;32m    547\u001b[0m \u001b[38;5;28;01mdef\u001b[39;00m \u001b[38;5;21mf\u001b[39m(\u001b[38;5;28mself\u001b[39m):\n\u001b[0;32m    548\u001b[0m     \u001b[38;5;28;01mreturn\u001b[39;00m \u001b[38;5;28mgetattr\u001b[39m(\u001b[38;5;28mself\u001b[39m\u001b[38;5;241m.\u001b[39mplot, name)(\u001b[38;5;241m*\u001b[39margs, \u001b[38;5;241m*\u001b[39m\u001b[38;5;241m*\u001b[39mkwargs)\n\u001b[1;32m--> 550\u001b[0m \u001b[38;5;28;01mreturn\u001b[39;00m \u001b[38;5;28;43mself\u001b[39;49m\u001b[38;5;241;43m.\u001b[39;49m\u001b[43m_groupby\u001b[49m\u001b[38;5;241;43m.\u001b[39;49m\u001b[43mapply\u001b[49m\u001b[43m(\u001b[49m\u001b[43mf\u001b[49m\u001b[43m)\u001b[49m\n",
      "File \u001b[1;32m~\\anaconda3\\lib\\site-packages\\pandas\\core\\groupby\\groupby.py:1425\u001b[0m, in \u001b[0;36mGroupBy.apply\u001b[1;34m(self, func, *args, **kwargs)\u001b[0m\n\u001b[0;32m   1415\u001b[0m     \u001b[38;5;28;01mexcept\u001b[39;00m \u001b[38;5;167;01mTypeError\u001b[39;00m:\n\u001b[0;32m   1416\u001b[0m         \u001b[38;5;66;03m# gh-20949\u001b[39;00m\n\u001b[0;32m   1417\u001b[0m         \u001b[38;5;66;03m# try again, with .apply acting as a filtering\u001b[39;00m\n\u001b[1;32m   (...)\u001b[0m\n\u001b[0;32m   1421\u001b[0m         \u001b[38;5;66;03m# fails on *some* columns, e.g. a numeric operation\u001b[39;00m\n\u001b[0;32m   1422\u001b[0m         \u001b[38;5;66;03m# on a string grouper column\u001b[39;00m\n\u001b[0;32m   1424\u001b[0m         \u001b[38;5;28;01mwith\u001b[39;00m \u001b[38;5;28mself\u001b[39m\u001b[38;5;241m.\u001b[39m_group_selection_context():\n\u001b[1;32m-> 1425\u001b[0m             \u001b[38;5;28;01mreturn\u001b[39;00m \u001b[38;5;28;43mself\u001b[39;49m\u001b[38;5;241;43m.\u001b[39;49m\u001b[43m_python_apply_general\u001b[49m\u001b[43m(\u001b[49m\u001b[43mf\u001b[49m\u001b[43m,\u001b[49m\u001b[43m \u001b[49m\u001b[38;5;28;43mself\u001b[39;49m\u001b[38;5;241;43m.\u001b[39;49m\u001b[43m_selected_obj\u001b[49m\u001b[43m)\u001b[49m\n\u001b[0;32m   1427\u001b[0m \u001b[38;5;28;01mreturn\u001b[39;00m result\n",
      "File \u001b[1;32m~\\anaconda3\\lib\\site-packages\\pandas\\core\\groupby\\groupby.py:1455\u001b[0m, in \u001b[0;36mGroupBy._python_apply_general\u001b[1;34m(self, f, data, not_indexed_same)\u001b[0m\n\u001b[0;32m   1429\u001b[0m \u001b[38;5;129m@final\u001b[39m\n\u001b[0;32m   1430\u001b[0m \u001b[38;5;28;01mdef\u001b[39;00m \u001b[38;5;21m_python_apply_general\u001b[39m(\n\u001b[0;32m   1431\u001b[0m     \u001b[38;5;28mself\u001b[39m,\n\u001b[1;32m   (...)\u001b[0m\n\u001b[0;32m   1434\u001b[0m     not_indexed_same: \u001b[38;5;28mbool\u001b[39m \u001b[38;5;241m|\u001b[39m \u001b[38;5;28;01mNone\u001b[39;00m \u001b[38;5;241m=\u001b[39m \u001b[38;5;28;01mNone\u001b[39;00m,\n\u001b[0;32m   1435\u001b[0m ) \u001b[38;5;241m-\u001b[39m\u001b[38;5;241m>\u001b[39m DataFrame \u001b[38;5;241m|\u001b[39m Series:\n\u001b[0;32m   1436\u001b[0m     \u001b[38;5;124;03m\"\"\"\u001b[39;00m\n\u001b[0;32m   1437\u001b[0m \u001b[38;5;124;03m    Apply function f in python space\u001b[39;00m\n\u001b[0;32m   1438\u001b[0m \n\u001b[1;32m   (...)\u001b[0m\n\u001b[0;32m   1453\u001b[0m \u001b[38;5;124;03m        data after applying f\u001b[39;00m\n\u001b[0;32m   1454\u001b[0m \u001b[38;5;124;03m    \"\"\"\u001b[39;00m\n\u001b[1;32m-> 1455\u001b[0m     values, mutated \u001b[38;5;241m=\u001b[39m \u001b[38;5;28;43mself\u001b[39;49m\u001b[38;5;241;43m.\u001b[39;49m\u001b[43mgrouper\u001b[49m\u001b[38;5;241;43m.\u001b[39;49m\u001b[43mapply\u001b[49m\u001b[43m(\u001b[49m\u001b[43mf\u001b[49m\u001b[43m,\u001b[49m\u001b[43m \u001b[49m\u001b[43mdata\u001b[49m\u001b[43m,\u001b[49m\u001b[43m \u001b[49m\u001b[38;5;28;43mself\u001b[39;49m\u001b[38;5;241;43m.\u001b[39;49m\u001b[43maxis\u001b[49m\u001b[43m)\u001b[49m\n\u001b[0;32m   1457\u001b[0m     \u001b[38;5;28;01mif\u001b[39;00m not_indexed_same \u001b[38;5;129;01mis\u001b[39;00m \u001b[38;5;28;01mNone\u001b[39;00m:\n\u001b[0;32m   1458\u001b[0m         not_indexed_same \u001b[38;5;241m=\u001b[39m mutated \u001b[38;5;129;01mor\u001b[39;00m \u001b[38;5;28mself\u001b[39m\u001b[38;5;241m.\u001b[39mmutated\n",
      "File \u001b[1;32m~\\anaconda3\\lib\\site-packages\\pandas\\core\\groupby\\ops.py:761\u001b[0m, in \u001b[0;36mBaseGrouper.apply\u001b[1;34m(self, f, data, axis)\u001b[0m\n\u001b[0;32m    759\u001b[0m \u001b[38;5;66;03m# group might be modified\u001b[39;00m\n\u001b[0;32m    760\u001b[0m group_axes \u001b[38;5;241m=\u001b[39m group\u001b[38;5;241m.\u001b[39maxes\n\u001b[1;32m--> 761\u001b[0m res \u001b[38;5;241m=\u001b[39m \u001b[43mf\u001b[49m\u001b[43m(\u001b[49m\u001b[43mgroup\u001b[49m\u001b[43m)\u001b[49m\n\u001b[0;32m    762\u001b[0m \u001b[38;5;28;01mif\u001b[39;00m \u001b[38;5;129;01mnot\u001b[39;00m mutated \u001b[38;5;129;01mand\u001b[39;00m \u001b[38;5;129;01mnot\u001b[39;00m _is_indexed_like(res, group_axes, axis):\n\u001b[0;32m    763\u001b[0m     mutated \u001b[38;5;241m=\u001b[39m \u001b[38;5;28;01mTrue\u001b[39;00m\n",
      "File \u001b[1;32m~\\anaconda3\\lib\\site-packages\\pandas\\core\\groupby\\groupby.py:548\u001b[0m, in \u001b[0;36mGroupByPlot.__getattr__.<locals>.attr.<locals>.f\u001b[1;34m(self)\u001b[0m\n\u001b[0;32m    547\u001b[0m \u001b[38;5;28;01mdef\u001b[39;00m \u001b[38;5;21mf\u001b[39m(\u001b[38;5;28mself\u001b[39m):\n\u001b[1;32m--> 548\u001b[0m     \u001b[38;5;28;01mreturn\u001b[39;00m \u001b[38;5;28mgetattr\u001b[39m(\u001b[38;5;28mself\u001b[39m\u001b[38;5;241m.\u001b[39mplot, name)(\u001b[38;5;241m*\u001b[39margs, \u001b[38;5;241m*\u001b[39m\u001b[38;5;241m*\u001b[39mkwargs)\n",
      "File \u001b[1;32m~\\anaconda3\\lib\\site-packages\\pandas\\plotting\\_core.py:1584\u001b[0m, in \u001b[0;36mPlotAccessor.pie\u001b[1;34m(self, **kwargs)\u001b[0m\n\u001b[0;32m   1578\u001b[0m \u001b[38;5;28;01mif\u001b[39;00m (\n\u001b[0;32m   1579\u001b[0m     \u001b[38;5;28misinstance\u001b[39m(\u001b[38;5;28mself\u001b[39m\u001b[38;5;241m.\u001b[39m_parent, ABCDataFrame)\n\u001b[0;32m   1580\u001b[0m     \u001b[38;5;129;01mand\u001b[39;00m kwargs\u001b[38;5;241m.\u001b[39mget(\u001b[38;5;124m\"\u001b[39m\u001b[38;5;124my\u001b[39m\u001b[38;5;124m\"\u001b[39m, \u001b[38;5;28;01mNone\u001b[39;00m) \u001b[38;5;129;01mis\u001b[39;00m \u001b[38;5;28;01mNone\u001b[39;00m\n\u001b[0;32m   1581\u001b[0m     \u001b[38;5;129;01mand\u001b[39;00m \u001b[38;5;129;01mnot\u001b[39;00m kwargs\u001b[38;5;241m.\u001b[39mget(\u001b[38;5;124m\"\u001b[39m\u001b[38;5;124msubplots\u001b[39m\u001b[38;5;124m\"\u001b[39m, \u001b[38;5;28;01mFalse\u001b[39;00m)\n\u001b[0;32m   1582\u001b[0m ):\n\u001b[0;32m   1583\u001b[0m     \u001b[38;5;28;01mraise\u001b[39;00m \u001b[38;5;167;01mValueError\u001b[39;00m(\u001b[38;5;124m\"\u001b[39m\u001b[38;5;124mpie requires either y column or \u001b[39m\u001b[38;5;124m'\u001b[39m\u001b[38;5;124msubplots=True\u001b[39m\u001b[38;5;124m'\u001b[39m\u001b[38;5;124m\"\u001b[39m)\n\u001b[1;32m-> 1584\u001b[0m \u001b[38;5;28;01mreturn\u001b[39;00m \u001b[38;5;28mself\u001b[39m(kind\u001b[38;5;241m=\u001b[39m\u001b[38;5;124m\"\u001b[39m\u001b[38;5;124mpie\u001b[39m\u001b[38;5;124m\"\u001b[39m, \u001b[38;5;241m*\u001b[39m\u001b[38;5;241m*\u001b[39mkwargs)\n",
      "File \u001b[1;32m~\\anaconda3\\lib\\site-packages\\pandas\\plotting\\_core.py:931\u001b[0m, in \u001b[0;36mPlotAccessor.__call__\u001b[1;34m(self, *args, **kwargs)\u001b[0m\n\u001b[0;32m    929\u001b[0m             \u001b[38;5;66;03m# converted to series actually. copy to not modify\u001b[39;00m\n\u001b[0;32m    930\u001b[0m             data \u001b[38;5;241m=\u001b[39m data[y]\u001b[38;5;241m.\u001b[39mcopy()\n\u001b[1;32m--> 931\u001b[0m             data\u001b[38;5;241m.\u001b[39mindex\u001b[38;5;241m.\u001b[39mname \u001b[38;5;241m=\u001b[39m y\n\u001b[0;32m    932\u001b[0m \u001b[38;5;28;01melif\u001b[39;00m \u001b[38;5;28misinstance\u001b[39m(data, ABCDataFrame):\n\u001b[0;32m    933\u001b[0m     data_cols \u001b[38;5;241m=\u001b[39m data\u001b[38;5;241m.\u001b[39mcolumns\n",
      "File \u001b[1;32m~\\anaconda3\\lib\\site-packages\\pandas\\core\\indexes\\base.py:1665\u001b[0m, in \u001b[0;36mIndex.name\u001b[1;34m(self, value)\u001b[0m\n\u001b[0;32m   1659\u001b[0m \u001b[38;5;28;01mif\u001b[39;00m \u001b[38;5;28mself\u001b[39m\u001b[38;5;241m.\u001b[39m_no_setting_name:\n\u001b[0;32m   1660\u001b[0m     \u001b[38;5;66;03m# Used in MultiIndex.levels to avoid silently ignoring name updates.\u001b[39;00m\n\u001b[0;32m   1661\u001b[0m     \u001b[38;5;28;01mraise\u001b[39;00m \u001b[38;5;167;01mRuntimeError\u001b[39;00m(\n\u001b[0;32m   1662\u001b[0m         \u001b[38;5;124m\"\u001b[39m\u001b[38;5;124mCannot set name on a level of a MultiIndex. Use \u001b[39m\u001b[38;5;124m\"\u001b[39m\n\u001b[0;32m   1663\u001b[0m         \u001b[38;5;124m\"\u001b[39m\u001b[38;5;124m'\u001b[39m\u001b[38;5;124mMultiIndex.set_names\u001b[39m\u001b[38;5;124m'\u001b[39m\u001b[38;5;124m instead.\u001b[39m\u001b[38;5;124m\"\u001b[39m\n\u001b[0;32m   1664\u001b[0m     )\n\u001b[1;32m-> 1665\u001b[0m \u001b[43mmaybe_extract_name\u001b[49m\u001b[43m(\u001b[49m\u001b[43mvalue\u001b[49m\u001b[43m,\u001b[49m\u001b[43m \u001b[49m\u001b[38;5;28;43;01mNone\u001b[39;49;00m\u001b[43m,\u001b[49m\u001b[43m \u001b[49m\u001b[38;5;28;43mtype\u001b[39;49m\u001b[43m(\u001b[49m\u001b[38;5;28;43mself\u001b[39;49m\u001b[43m)\u001b[49m\u001b[43m)\u001b[49m\n\u001b[0;32m   1666\u001b[0m \u001b[38;5;28mself\u001b[39m\u001b[38;5;241m.\u001b[39m_name \u001b[38;5;241m=\u001b[39m value\n",
      "File \u001b[1;32m~\\anaconda3\\lib\\site-packages\\pandas\\core\\indexes\\base.py:7093\u001b[0m, in \u001b[0;36mmaybe_extract_name\u001b[1;34m(name, obj, cls)\u001b[0m\n\u001b[0;32m   7091\u001b[0m \u001b[38;5;66;03m# GH#29069\u001b[39;00m\n\u001b[0;32m   7092\u001b[0m \u001b[38;5;28;01mif\u001b[39;00m \u001b[38;5;129;01mnot\u001b[39;00m is_hashable(name):\n\u001b[1;32m-> 7093\u001b[0m     \u001b[38;5;28;01mraise\u001b[39;00m \u001b[38;5;167;01mTypeError\u001b[39;00m(\u001b[38;5;124mf\u001b[39m\u001b[38;5;124m\"\u001b[39m\u001b[38;5;132;01m{\u001b[39;00m\u001b[38;5;28mcls\u001b[39m\u001b[38;5;241m.\u001b[39m\u001b[38;5;18m__name__\u001b[39m\u001b[38;5;132;01m}\u001b[39;00m\u001b[38;5;124m.name must be a hashable type\u001b[39m\u001b[38;5;124m\"\u001b[39m)\n\u001b[0;32m   7095\u001b[0m \u001b[38;5;28;01mreturn\u001b[39;00m name\n",
      "\u001b[1;31mTypeError\u001b[0m: Int64Index.name must be a hashable type"
     ]
    }
   ],
   "source": [
    "#plotar tamanhos\n",
    "df_dataset_classe_largura_altura.plot.pie(x=\"classe\", y=[\"largura\",\"altura\"])\n",
    "\n",
    "# y = np.random.rand(10,3)\n",
    "# y[:,0]= np.arange(10)\n",
    "# df = df_dataset_classe_largura_altura\n",
    "\n",
    "# ax = df.plot(x=\"classe\", y=\"largura\", kind=\"bar\")\n",
    "# df.plot(x=\"classe\", y=\"altura\", kind=\"bar\", ax=ax, color=\"C2\")\n",
    "\n",
    "plt.show()"
   ]
  },
  {
   "cell_type": "markdown",
   "id": "ea1555ef",
   "metadata": {},
   "source": [
    "###### Separar os dados entre os dados de treino: 80% e teste: 20%"
   ]
  },
  {
   "cell_type": "code",
   "execution_count": null,
   "id": "c49f48d3",
   "metadata": {},
   "outputs": [],
   "source": [
    "def imagem():\n",
    "    image_name = os.path.join(self.dir_path, self.file_list[idx])\n",
    "        \n",
    "    if image_name.split('.')[::-1][0] == \"gif\":\n",
    "        gif = cv2.VideoCapture(image_name)\n",
    "        _, image = gif.read()\n",
    "    else:\n",
    "        image = cv2.imread(image_name)\n",
    "        image = cv2.cvtColor(image, cv2.COLOR_BGR2RGB)\n",
    "\n",
    "    for name, label in self.label_dict.items():\n",
    "        if name in image_name.split('/')[::-1][0]:\n",
    "            self.label = label\n",
    "            break\n",
    "\n",
    "    if self.transform:\n",
    "        augmented = self.transform(image=image)\n",
    "        image = augmented['image']\n",
    "\n",
    "    return image, self.label\n",
    "\n",
    "def test(a):\n",
    "    print(str(a)+\"coisa\")\n",
    "    return []#os.path.join(diretorio_imagens, a)\n",
    "\n",
    "#df_dataset['imagem'] = df['nome'].transform(len)\n",
    "df_dataset\n",
    "teste = df_dataset.groupby([\"tipo\",\"nome\"])[\"tipo\",\"nome\"].transform(test)\n",
    "teste"
   ]
  },
  {
   "cell_type": "code",
   "execution_count": null,
   "id": "fbc15dc2",
   "metadata": {},
   "outputs": [],
   "source": []
  },
  {
   "cell_type": "markdown",
   "id": "8faa68bd",
   "metadata": {},
   "source": []
  },
  {
   "cell_type": "code",
   "execution_count": null,
   "id": "d1259bca",
   "metadata": {},
   "outputs": [],
   "source": []
  },
  {
   "cell_type": "markdown",
   "id": "edb55b21",
   "metadata": {},
   "source": []
  },
  {
   "cell_type": "code",
   "execution_count": null,
   "id": "ebf256f0",
   "metadata": {},
   "outputs": [],
   "source": [
    "\n"
   ]
  },
  {
   "cell_type": "markdown",
   "id": "515bde3d-e452-424c-a36a-f8c8bc57195d",
   "metadata": {},
   "source": [
    "### Ainda estão todas misturadas e é necessario separá-las:"
   ]
  },
  {
   "cell_type": "code",
   "execution_count": null,
   "id": "654c703b-e77c-48c4-9cb0-ad0d0db9f376",
   "metadata": {},
   "outputs": [],
   "source": [
    "class Grafico(List):\n",
    "    def __init__(self, dados):\n",
    "        self.dados = dados\n",
    "    def __len__(self):\n",
    "        return len(self.dados)\n",
    "    def __getitem__(self,id):\n",
    "        return self.dados[id]\n",
    "\n",
    "a,b = np.unique(dados, return_counts=True)\n",
    "print(a,b)"
   ]
  },
  {
   "cell_type": "markdown",
   "id": "7ad4dd10-9843-4453-8eca-9f925c456c62",
   "metadata": {},
   "source": [
    "\n",
    "## Verifique a qualidade dos dados: quão “limpos/sujos” estão os dados?\n",
    "## Documente quaisquer problema de qualidade"
   ]
  },
  {
   "cell_type": "markdown",
   "id": "33b52ecd",
   "metadata": {
    "tags": []
   },
   "source": [
    "\n",
    "\n",
    "### 3. Preparação dos dados\n",
    "### - Uma regra comum é que 80% do projeto é a preparação de dados\n",
    "#### ❑ Selecionar dados: Determine quais os conjuntos de dados serão usados e documente os motivos da inclusão/exclusão\n",
    "#### ❑ Limpeza de dados\n",
    "##### ❑ Corrigir oou remover outiliers (opcional)\n",
    "##### ❑ Preencher valores ausentes (missing values) ou eliminar suas instâncias (ou colunas)\n",
    "#### ❑ Seleção de características (opcional): eliminar (“dropa”) os atributos que não fornecem informações úteis para a tarefa\n",
    "#### ❑ Engenharia de Atributos ou de características (Feature Engineering): reformatar os dados conforme necessário. Por exemplo, discretizar características contínuas, realizar transformações (ex.: log(x), sqrt(x), etc.), compor novas características a partir das existentes, padronizar ou normalizar as características, etc\n",
    "### - Boas práticas:\n",
    "#### • Trabalhe com as cópias dos dados\n",
    "#### • Escreva funções para todas as transformação de dados que for aplicar. Motivos\n",
    "#### • Preparar facilmente os dados da próxima vez que obtiver um novo conjunto de dados\n",
    "#### • Aplicar essas transformações em projetos futuros para: Limpar e preparar o conjunto de teste, limpar e preparar novas instâncias de dados quando a solução estiver em produção\n",
    "#### • Facilitar as escolhas como hiperparâmetros\n",
    "\n",
    "### 4. Modelagem\n",
    "#### 1. Treine muitos modelos rápidos e simples de diferentes categorias (ex.: linear, Naive Bayes, SVM, random florest, rede neural, etc) usando parâmetros-padrão\n",
    "#### 2. Medir e comparar o desempenho (ex: média e desvio-padrão do erro). Para cada modelo é interessante usar a validação cruzada k-fold\n",
    "#### 3. Analise as variáveis mais significativas para cada algoritmo\n",
    "#### 4. Analise os erros que os modelos cometem\n",
    "#### 5. Execute uma rodada rápida de seleção de características e feature engineering\n",
    "#### 6. Rode mais uma ou duas iterações rápidas das 5 etapas anteriores\n",
    "#### 7. Faça uma pré-seleção de 3 à 5 modelos com melhor desempenho\n",
    "\n",
    "### 5. Avaliação\n",
    "#### ❑ Avalie os resultados: Os modelos atendem aos critérios de sucesso do negócio? Qual(is) devemos aprovar para o negócio?\n",
    "#### ❑ Processo de revisão: Revise o trabalho realizado. Alguma coisa foi esquecida? Todas as etapas foram executadas corretamente? Resuma as descobertas e corrija qualquer coisa, se necessário\n",
    "#### ❑ Apresente sua solução. Documentar o que foi feito, explicar porque sua solução alcança o objetivo do negócio, etc\n",
    "#### ❑ Determine as próximas etapas: Com base nas três tarefas anteriores, determine se deve continuar com a implantação, iterar mais ou iniciar novos projetos Importante: não ajuste seu modelo depois de medir o erro de generalização: você simplesmente começaria a ajustar o conjunto de teste\n",
    "\n",
    "### 6. Implantação\n",
    "#### ❑ Planejar a implantação: Desenvolva e documente um plano para implantar o modelo.\n",
    "#### ❑ Plano de monitoramento e manutenção: Desenvolva um plano completo de monitoramento e manutenção para evitar problemas durante a fase operacional (ou fase pós-projeto) de um modelo.\n",
    "#### ❑ Produzir relatório final: A equipe do projeto documenta um resumo do projeto que pode incluir uma apresentação final dos resultados da mineração de dados.\n",
    "#### ❑ Revisão do projeto: Conduza uma retrospectiva do projeto sobre o que deu certo, o que poderia ter sido melhor e como melhorar no futuro"
   ]
  }
 ],
 "metadata": {
  "kernelspec": {
   "display_name": "projeto_ml",
   "language": "python",
   "name": "projeto_ml"
  },
  "language_info": {
   "codemirror_mode": {
    "name": "ipython",
    "version": 3
   },
   "file_extension": ".py",
   "mimetype": "text/x-python",
   "name": "python",
   "nbconvert_exporter": "python",
   "pygments_lexer": "ipython3",
   "version": "3.9.12"
  }
 },
 "nbformat": 4,
 "nbformat_minor": 5
}
